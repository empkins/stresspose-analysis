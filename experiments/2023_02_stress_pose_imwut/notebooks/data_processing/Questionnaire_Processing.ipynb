{
 "cells": [
  {
   "cell_type": "markdown",
   "metadata": {},
   "source": [
    "# Questionnaire Processing"
   ]
  },
  {
   "cell_type": "markdown",
   "metadata": {},
   "source": [
    "This notebook processes the cleaned questionnaire data, i.e., computes questionnaire sum scores from raw items."
   ]
  },
  {
   "cell_type": "code",
   "execution_count": null,
   "metadata": {
    "tags": []
   },
   "outputs": [],
   "source": [
    "import json\n",
    "from pathlib import Path\n",
    "\n",
    "import biopsykit as bp\n",
    "\n",
    "from fau_colors import cmaps\n",
    "import matplotlib.pyplot as plt\n",
    "import seaborn as sns\n",
    "\n",
    "%load_ext autoreload\n",
    "%autoreload 2\n",
    "%matplotlib widget"
   ]
  },
  {
   "cell_type": "code",
   "execution_count": null,
   "metadata": {},
   "outputs": [],
   "source": [
    "plt.close(\"all\")\n",
    "\n",
    "palette = sns.color_palette(cmaps.faculties)\n",
    "sns.set_theme(context=\"notebook\", style=\"ticks\", palette=palette)\n",
    "\n",
    "plt.rcParams[\"figure.figsize\"] = (8, 4)\n",
    "plt.rcParams[\"pdf.fonttype\"] = 42\n",
    "plt.rcParams[\"mathtext.default\"] = \"regular\"\n",
    "\n",
    "palette"
   ]
  },
  {
   "cell_type": "markdown",
   "metadata": {},
   "source": [
    "## Setup Paths"
   ]
  },
  {
   "cell_type": "code",
   "execution_count": null,
   "metadata": {},
   "outputs": [],
   "source": [
    "deploy_type = \"local\""
   ]
  },
  {
   "cell_type": "code",
   "execution_count": null,
   "metadata": {},
   "outputs": [],
   "source": [
    "config_dict = json.load(Path(\"../../config.json\").open(encoding=\"utf-8\"))\n",
    "base_path = Path(config_dict[deploy_type][\"base_path\"])\n",
    "\n",
    "quest_path = base_path.joinpath(\"questionnaire_total\")"
   ]
  },
  {
   "cell_type": "code",
   "execution_count": null,
   "metadata": {},
   "outputs": [],
   "source": [
    "output_path = quest_path.joinpath(\"processed\")\n",
    "bp.utils.file_handling.mkdirs(output_path)"
   ]
  },
  {
   "cell_type": "markdown",
   "metadata": {},
   "source": [
    "## Load Questionnaire Data"
   ]
  },
  {
   "cell_type": "code",
   "execution_count": null,
   "metadata": {},
   "outputs": [],
   "source": [
    "quest_data = bp.io.load_questionnaire_data(quest_path.joinpath(\"cleaned/stresspose_questionnaire_cleaned.xlsx\"))\n",
    "quest_data.head()"
   ]
  },
  {
   "cell_type": "markdown",
   "metadata": {},
   "source": [
    "## Compute BMI"
   ]
  },
  {
   "cell_type": "code",
   "execution_count": null,
   "metadata": {},
   "outputs": [],
   "source": [
    "quest_data = quest_data.assign(**{\"BMI\": bp.metadata.bmi(quest_data, columns=[\"weight\", \"height\"])})\n",
    "quest_data.head()"
   ]
  },
  {
   "cell_type": "markdown",
   "metadata": {},
   "source": [
    "### Setup Questionnaire Score Dict"
   ]
  },
  {
   "cell_type": "code",
   "execution_count": null,
   "metadata": {},
   "outputs": [],
   "source": [
    "quest_dict = {\n",
    "    \"ads_l\": quest_data.filter(like=\"ADSL\").columns,\n",
    "    \"stadi\": quest_data.filter(like=\"STADI_T\").columns,\n",
    "    \"stadi-tsst_pre\": quest_data.filter(regex=\"STADI_S_\\d{1,2}_TSST_Pre\").columns,\n",
    "    \"stadi-tsst_post\": quest_data.filter(regex=\"STADI_S_\\d{1,2}_TSST_Post\").columns,\n",
    "    \"stadi-ftsst_pre\": quest_data.filter(regex=\"STADI_S_\\d{1,2}_fTSST_Pre\").columns,\n",
    "    \"stadi-ftsst_post\": quest_data.filter(regex=\"STADI_S_\\d{1,2}_fTSST_Post\").columns,\n",
    "    \"panas-tsst_pre\": quest_data.filter(regex=\"PANAS_1_\\d{1,2}_TSST_Pre\").columns,\n",
    "    \"panas-tsst_post\": quest_data.filter(regex=\"PANAS_1_\\d{1,2}_TSST_Post\").columns,\n",
    "    \"panas-ftsst_pre\": quest_data.filter(regex=\"PANAS_1_\\d{1,2}_fTSST_Pre\").columns,\n",
    "    \"panas-ftsst_post\": quest_data.filter(regex=\"PANAS_1_\\d{1,2}_fTSST_Post\").columns,\n",
    "    \"brief_cope\": quest_data.filter(like=\"Brief_Cope\").columns,\n",
    "    \"pss\": quest_data.filter(like=\"PSS\").columns,\n",
    "    \"bfi_k\": quest_data.filter(like=\"bfik\").columns,\n",
    "    \"rsq\": quest_data.filter(like=\"rsq\").columns,\n",
    "    \"besaa\": quest_data.filter(like=\"BES\").columns,\n",
    "    \"pasa\": quest_data.filter(like=\"PASA\").columns,\n",
    "}\n",
    "quest_kwargs = {\n",
    "    \"stadi\": {\"stadi_type\": \"trait\"},\n",
    "    \"stadi-tsst_pre\": {\"stadi_type\": \"state\"},\n",
    "    \"stadi-tsst_post\": {\"stadi_type\": \"state\"},\n",
    "    \"stadi-ftsst_pre\": {\"stadi_type\": \"state\"},\n",
    "    \"stadi-ftsst_post\": {\"stadi_type\": \"state\"},\n",
    "    \"panas-tsst_pre\": {\"language\": \"german\"},\n",
    "    \"panas-tsst_post\": {\"language\": \"german\"},\n",
    "    \"panas-ftsst_pre\": {\"language\": \"german\"},\n",
    "    \"panas-ftsst_post\": {\"language\": \"german\"},\n",
    "}"
   ]
  },
  {
   "cell_type": "markdown",
   "metadata": {},
   "source": [
    "### Convert Scales to match `BioPsyKit` Implementation"
   ]
  },
  {
   "cell_type": "code",
   "execution_count": null,
   "metadata": {},
   "outputs": [],
   "source": [
    "quest_data_converted = quest_data.copy()\n",
    "for key in [\"ads_l\", \"pss\", \"besaa\"]:\n",
    "    quest_data_converted = bp.questionnaires.utils.convert_scale(quest_data_converted, offset=-1, cols=quest_dict[key])"
   ]
  },
  {
   "cell_type": "markdown",
   "metadata": {},
   "source": [
    "### Process Questionnaire Data"
   ]
  },
  {
   "cell_type": "code",
   "execution_count": null,
   "metadata": {},
   "outputs": [],
   "source": [
    "quest_scores = bp.questionnaires.utils.compute_scores(quest_data_converted, quest_dict, quest_kwargs)\n",
    "quest_scores.head()"
   ]
  },
  {
   "cell_type": "code",
   "execution_count": null,
   "metadata": {},
   "outputs": [],
   "source": [
    "quest_data[\"TSST_first\"].astype(bool).value_counts()"
   ]
  },
  {
   "cell_type": "code",
   "execution_count": null,
   "metadata": {},
   "outputs": [],
   "source": [
    "quest_scores = quest_data[[\"age\", \"gender\", \"BMI\", \"TSST_first\"]].join(quest_scores)\n",
    "quest_scores[\"TSST_first\"] = quest_scores[\"TSST_first\"].astype(bool)\n",
    "quest_scores.head()"
   ]
  },
  {
   "cell_type": "code",
   "execution_count": null,
   "metadata": {},
   "outputs": [],
   "source": [
    "quest_scores.to_csv(output_path.joinpath(\"stresspose_questionnaire_processed.csv\"))"
   ]
  },
  {
   "cell_type": "code",
   "execution_count": null,
   "metadata": {},
   "outputs": [],
   "source": []
  }
 ],
 "metadata": {
  "kernelspec": {
   "display_name": "stresspose_analysis",
   "language": "python",
   "name": "stresspose_analysis"
  },
  "language_info": {
   "codemirror_mode": {
    "name": "ipython",
    "version": 3
   },
   "file_extension": ".py",
   "mimetype": "text/x-python",
   "name": "python",
   "nbconvert_exporter": "python",
   "pygments_lexer": "ipython3",
   "version": "3.9.13"
  }
 },
 "nbformat": 4,
 "nbformat_minor": 4
}
