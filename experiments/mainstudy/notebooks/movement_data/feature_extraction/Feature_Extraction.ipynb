{
 "cells": [
  {
   "cell_type": "markdown",
   "metadata": {},
   "source": [
    "# Movement Data – Feature Extraction"
   ]
  },
  {
   "cell_type": "markdown",
   "metadata": {},
   "source": [
    "## Imports"
   ]
  },
  {
   "cell_type": "code",
   "execution_count": null,
   "metadata": {
    "tags": []
   },
   "outputs": [],
   "source": [
    "import json\n",
    "from pathlib import Path\n",
    "\n",
    "import pandas as pd\n",
    "from empkins_macro import feature_extraction\n",
    "from tqdm.auto import tqdm\n",
    "\n",
    "from stresspose_analysis.datasets.mainstudy import MainStudyDataset\n",
    "from stresspose_analysis.feature_extraction.utils import (\n",
    "    load_generic_feature_dict,\n",
    "    load_expert_feature_dict,\n",
    "    remove_na,\n",
    ")\n",
    "\n",
    "\n",
    "%matplotlib widget\n",
    "%load_ext autoreload\n",
    "%autoreload 2"
   ]
  },
  {
   "cell_type": "markdown",
   "metadata": {},
   "source": [
    "## Setup Paths"
   ]
  },
  {
   "cell_type": "code",
   "execution_count": null,
   "metadata": {
    "tags": []
   },
   "outputs": [],
   "source": [
    "deploy_type = \"local\"\n",
    "\n",
    "base_path = Path(\"../../..\")\n",
    "\n",
    "data_path = Path(json.load(base_path.joinpath(\"config.json\").open(encoding=\"utf-8\"))[deploy_type][\"base_path\"])\n",
    "data_path"
   ]
  },
  {
   "cell_type": "code",
   "execution_count": null,
   "metadata": {
    "tags": []
   },
   "outputs": [],
   "source": [
    "feature_dict_path = base_path.joinpath(\"params/feature_dicts_tsst\")\n",
    "\n",
    "output_path = base_path.joinpath(\"feature_export/movement_features\")\n",
    "output_path.mkdir(parents=True, exist_ok=True)"
   ]
  },
  {
   "cell_type": "code",
   "execution_count": null,
   "metadata": {
    "tags": []
   },
   "outputs": [],
   "source": [
    "dataset = MainStudyDataset(base_path=data_path, use_cache=True)\n",
    "dataset"
   ]
  },
  {
   "cell_type": "code",
   "execution_count": null,
   "metadata": {
    "tags": []
   },
   "outputs": [],
   "source": [
    "sampling_rate = 60  # Hz\n",
    "\n",
    "threshold_gyr = 5  # deg2/s2\n",
    "window_sec_gyr = 0.5  # sec\n",
    "overlap_percent_gyr = 0.5  # %\n",
    "\n",
    "threshold_vel = 5e-5  # m2/s2\n",
    "window_sec_vel = 0.5  # sec\n",
    "overlap_percent_vel = 0.5  # %\n",
    "\n",
    "distance_thres = 0.2  # m\n",
    "\n",
    "generic_feature_dict = load_generic_feature_dict(feature_dict_path)\n",
    "expert_feature_dict = load_expert_feature_dict(\n",
    "    feature_dict_path,\n",
    "    sampling_rate_hz=sampling_rate,\n",
    "    threshold_gyr=threshold_gyr,\n",
    "    window_sec_gyr=window_sec_gyr,\n",
    "    overlap_percent_gyr=overlap_percent_gyr,\n",
    "    threshold_vel=threshold_vel,\n",
    "    window_sec_vel=window_sec_vel,\n",
    "    overlap_percent_vel=overlap_percent_vel,\n",
    "    distance_thres=distance_thres,\n",
    ")"
   ]
  },
  {
   "cell_type": "code",
   "execution_count": null,
   "metadata": {
    "tags": []
   },
   "outputs": [],
   "source": [
    "result_dict_expert = {}\n",
    "result_dict_generic = {}"
   ]
  },
  {
   "cell_type": "code",
   "execution_count": null,
   "metadata": {},
   "outputs": [],
   "source": [
    "index_levels = [\"subject\", \"condition\"]\n",
    "system = \"xsens\""
   ]
  },
  {
   "cell_type": "code",
   "execution_count": null,
   "metadata": {
    "tags": []
   },
   "outputs": [],
   "source": [
    "for subset in tqdm(list(dataset.groupby(index_levels))):\n",
    "    subject_id = subset.index[\"subject\"][0]\n",
    "    condition = subset.index[\"condition\"][0]\n",
    "    \n",
    "    if (subject_id, condition) in result_dict_expert:\n",
    "        continue\n",
    "    print(f\"{subject_id} {condition}\")\n",
    "\n",
    "    mocap_data = subset.mocap_data\n",
    "\n",
    "    expert_features = feature_extraction.extract_expert_features(mocap_data, expert_feature_dict, system=system)\n",
    "    generic_features = feature_extraction.extract_generic_features(mocap_data, generic_feature_dict, system=system)\n",
    "\n",
    "    result_dict_expert[(subject_id, condition)] = expert_features\n",
    "    result_dict_generic[(subject_id, condition)] = generic_features\n",
    "\n",
    "result_data_expert = pd.concat(result_dict_expert, names=index_levels)\n",
    "result_data_generic = pd.concat(result_dict_generic, names=index_levels)"
   ]
  },
  {
   "cell_type": "code",
   "execution_count": null,
   "metadata": {},
   "outputs": [],
   "source": [
    "movement_data_total = pd.concat((result_data_generic, result_data_expert), axis=0)\n",
    "movement_data_total = remove_na(movement_data_total)\n",
    "movement_data_total"
   ]
  },
  {
   "cell_type": "markdown",
   "metadata": {},
   "source": [
    "## Feature Cleaning"
   ]
  },
  {
   "cell_type": "code",
   "execution_count": null,
   "metadata": {},
   "outputs": [],
   "source": [
    "movement_data_cleaned = movement_data_total.unstack([\"subject\", \"condition\"])\n",
    "\n",
    "# drop features that are NaN for any subject\n",
    "movement_data_cleaned = movement_data_cleaned.dropna(how=\"any\", axis=0)\n",
    "# drop features that are constant (e.g., 0) for all subjects\n",
    "std_mask = movement_data_cleaned.std(axis=1) != 0\n",
    "movement_data_cleaned = movement_data_cleaned.loc[std_mask]\n",
    "\n",
    "# bring dataframe back in original format\n",
    "movement_data_cleaned = movement_data_cleaned.stack([\"subject\", \"condition\"])\n",
    "movement_data_cleaned = movement_data_cleaned.reorder_levels(movement_data_cleaned.index.names).sort_index()\n",
    "\n",
    "movement_data_cleaned"
   ]
  },
  {
   "cell_type": "markdown",
   "metadata": {},
   "source": [
    "## Export"
   ]
  },
  {
   "cell_type": "code",
   "execution_count": null,
   "metadata": {},
   "outputs": [],
   "source": [
    "movement_data_total.to_csv(output_path.joinpath(\"movement_features.csv\"))\n",
    "movement_data_cleaned.to_csv(output_path.joinpath(\"movement_features_cleaned.csv\"))\n",
    "movement_data_cleaned.to_csv(output_path.joinpath(\"movement_features_for_classification.csv\"))"
   ]
  },
  {
   "cell_type": "code",
   "execution_count": null,
   "metadata": {},
   "outputs": [],
   "source": []
  }
 ],
 "metadata": {
  "kernelspec": {
   "display_name": "stresspose_analysis",
   "language": "python",
   "name": "stresspose_analysis"
  },
  "language_info": {
   "codemirror_mode": {
    "name": "ipython",
    "version": 3
   },
   "file_extension": ".py",
   "mimetype": "text/x-python",
   "name": "python",
   "nbconvert_exporter": "python",
   "pygments_lexer": "ipython3",
   "version": "3.9.13"
  }
 },
 "nbformat": 4,
 "nbformat_minor": 4
}
