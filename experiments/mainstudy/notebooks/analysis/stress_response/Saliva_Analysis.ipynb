{
 "cells": [
  {
   "cell_type": "markdown",
   "metadata": {},
   "source": [
    "# Saliva Analysis"
   ]
  },
  {
   "cell_type": "code",
   "execution_count": null,
   "metadata": {
    "tags": []
   },
   "outputs": [],
   "source": [
    "import json\n",
    "from pathlib import Path\n",
    "\n",
    "import biopsykit as bp\n",
    "import matplotlib.pyplot as plt\n",
    "import pandas as pd\n",
    "import seaborn as sns\n",
    "from fau_colors import cmaps, register_fausans_font\n",
    "\n",
    "from stresspose_analysis.datasets.mainstudy import MainStudyDataset\n",
    "\n",
    "%load_ext autoreload\n",
    "%autoreload 2\n",
    "%matplotlib widget"
   ]
  },
  {
   "cell_type": "code",
   "execution_count": null,
   "metadata": {
    "tags": []
   },
   "outputs": [],
   "source": [
    "register_fausans_font()\n",
    "plt.close(\"all\")\n",
    "\n",
    "palette = sns.color_palette(cmaps.faculties)\n",
    "sns.set_theme(context=\"notebook\", style=\"ticks\", palette=palette)\n",
    "\n",
    "plt.rcParams[\"figure.figsize\"] = (8, 4)\n",
    "plt.rcParams[\"pdf.fonttype\"] = 42\n",
    "plt.rcParams[\"mathtext.default\"] = \"regular\"\n",
    "plt.rcParams[\"font.family\"] = \"sans-serif\"\n",
    "plt.rcParams[\"font.sans-serif\"] = \"FAUSans Office\"\n",
    "\n",
    "palette"
   ]
  },
  {
   "cell_type": "markdown",
   "metadata": {},
   "source": [
    "## Setup Paths"
   ]
  },
  {
   "cell_type": "code",
   "execution_count": null,
   "metadata": {
    "tags": []
   },
   "outputs": [],
   "source": [
    "deploy_type = \"local\""
   ]
  },
  {
   "cell_type": "code",
   "execution_count": null,
   "metadata": {
    "tags": []
   },
   "outputs": [],
   "source": [
    "root_path = Path(\"../../..\")\n",
    "\n",
    "config_dict = json.load(root_path.joinpath(\"config.json\").open(encoding=\"utf-8\"))\n",
    "base_path = Path(config_dict[deploy_type][\"base_path\"])\n",
    "dataset = MainStudyDataset(base_path)\n",
    "dataset"
   ]
  },
  {
   "cell_type": "code",
   "execution_count": null,
   "metadata": {
    "tags": []
   },
   "outputs": [],
   "source": [
    "output_path = root_path.joinpath(\"results\")\n",
    "img_path = output_path.joinpath(\"plots\")\n",
    "stats_path = output_path.joinpath(\"statistics\")\n",
    "\n",
    "bp.utils.file_handling.mkdirs([img_path, stats_path])"
   ]
  },
  {
   "cell_type": "markdown",
   "metadata": {},
   "source": [
    "## Prepare Data"
   ]
  },
  {
   "cell_type": "code",
   "execution_count": null,
   "metadata": {
    "tags": []
   },
   "outputs": [],
   "source": [
    "# dict for renaming condition names for use in plots\n",
    "condition_mapping = {\"tsst\": \"TSST\", \"ftsst\": \"f-TSST\"}"
   ]
  },
  {
   "cell_type": "code",
   "execution_count": null,
   "metadata": {
    "tags": []
   },
   "outputs": [],
   "source": [
    "cort_samples = dataset.add_cortisol_index(dataset.cortisol)\n",
    "# rename condition names for nicer plots\n",
    "cort_samples = cort_samples.rename(condition_mapping)\n",
    "cort_samples.head()"
   ]
  },
  {
   "cell_type": "code",
   "execution_count": null,
   "metadata": {
    "tags": []
   },
   "outputs": [],
   "source": [
    "cort_features = dataset.add_cortisol_index(dataset.cortisol_features)\n",
    "# rename condition names for nicer plots\n",
    "cort_features = cort_features.rename(condition_mapping)\n",
    "cort_features.head()"
   ]
  },
  {
   "cell_type": "code",
   "execution_count": null,
   "metadata": {
    "tags": []
   },
   "outputs": [],
   "source": [
    "tsst = bp.protocols.TSST(saliva_plot_params={\"test_title\": \"(f-)TSST\"})\n",
    "tsst.add_saliva_data(cort_samples, \"cortisol\", dataset.sample_times_saliva, sample_times_absolute=True)"
   ]
  },
  {
   "cell_type": "code",
   "execution_count": null,
   "metadata": {
    "tags": []
   },
   "outputs": [],
   "source": [
    "dict_information = {}"
   ]
  },
  {
   "cell_type": "markdown",
   "metadata": {},
   "source": [
    "## Descriptive Information"
   ]
  },
  {
   "cell_type": "code",
   "execution_count": null,
   "metadata": {
    "tags": []
   },
   "outputs": [],
   "source": [
    "cort_increase = cort_features.xs(\"max_inc_percent\", level=\"saliva_feature\")\n",
    "cort_increase_mean = cort_increase.groupby(\"condition\").agg([\"mean\", \"std\"])\n",
    "dict_information[\"cortisol_increase\"] = cort_increase_mean\n",
    "\n",
    "cort_increase_mean"
   ]
  },
  {
   "cell_type": "markdown",
   "metadata": {},
   "source": [
    "## Cortisol Samples"
   ]
  },
  {
   "cell_type": "markdown",
   "metadata": {},
   "source": [
    "### Plots"
   ]
  },
  {
   "cell_type": "code",
   "execution_count": null,
   "metadata": {
    "tags": []
   },
   "outputs": [],
   "source": [
    "hue_order = [\"f-TSST\", \"TSST\"]"
   ]
  },
  {
   "cell_type": "code",
   "execution_count": null,
   "metadata": {
    "tags": []
   },
   "outputs": [],
   "source": [
    "# cort_samples_analysis = cort_samples.reindex([1, 3], level=\"sample\")\n",
    "cort_pre = cort_samples.xs(\"S1\", level=\"sample\")\n",
    "cort_post = pd.DataFrame(\n",
    "    cort_samples.reindex([\"S3\", \"S4\"], level=\"sample\").unstack(\"sample\").max(axis=1), columns=[\"cortisol\"]\n",
    ")\n",
    "cort_samples_analysis = pd.concat({\"pre\": cort_pre, \"post\": cort_post}, names=[\"sample\"])\n",
    "\n",
    "steps = [(\"prep\", \"normality\"), (\"test\", \"pairwise_tests\")]\n",
    "params = {\n",
    "    \"dv\": \"cortisol\",\n",
    "    \"within\": \"sample\",\n",
    "    \"subject\": \"subject\",\n",
    "    \"groupby\": \"condition\",\n",
    "    \"parametric\": False,\n",
    "    \"multicomp\": {\"method\": \"bonf\", \"levels\": True},\n",
    "}\n",
    "\n",
    "sample_pipeline = bp.stats.StatsPipeline(steps, params)\n",
    "sample_pipeline.apply(cort_samples_analysis)\n",
    "sample_pipeline.display_results()\n",
    "sample_pipeline.export_statistics(stats_path.joinpath(\"stats_cortisol_pre_post.xlsx\"))"
   ]
  },
  {
   "cell_type": "code",
   "execution_count": null,
   "metadata": {
    "tags": []
   },
   "outputs": [],
   "source": [
    "fig, ax = plt.subplots()\n",
    "\n",
    "tsst.saliva_plot(\"cortisol\", hue_order=hue_order, ax=ax)\n",
    "fig.tight_layout()\n",
    "\n",
    "fig.savefig(img_path.joinpath(\"img_cortisol_response_mainstudy.pdf\"), transparent=True)"
   ]
  },
  {
   "cell_type": "markdown",
   "metadata": {},
   "source": [
    "## Cortisol Features"
   ]
  },
  {
   "cell_type": "markdown",
   "metadata": {},
   "source": [
    "### Statistics"
   ]
  },
  {
   "cell_type": "code",
   "execution_count": null,
   "metadata": {
    "tags": []
   },
   "outputs": [],
   "source": [
    "cort_features_analysis = cort_features.reindex([\"auc_g\", \"max_inc\"], level=\"saliva_feature\")\n",
    "\n",
    "steps = [(\"prep\", \"normality\"), (\"test\", \"pairwise_tests\")]\n",
    "params = {\n",
    "    \"dv\": \"cortisol\",\n",
    "    \"within\": \"condition\",\n",
    "    \"subject\": \"subject\",\n",
    "    \"groupby\": \"saliva_feature\",\n",
    "    \"parametric\": False,\n",
    "    \"multicomp\": {\"method\": \"bonf\", \"levels\": True},\n",
    "}\n",
    "\n",
    "feature_pipeline = bp.stats.StatsPipeline(steps, params)\n",
    "feature_pipeline.apply(cort_features_analysis)\n",
    "feature_pipeline.export_statistics(stats_path.joinpath(\"stats_cortisol_response.xlsx\"))\n",
    "feature_pipeline.display_results()"
   ]
  },
  {
   "cell_type": "markdown",
   "metadata": {},
   "source": [
    "### Plots"
   ]
  },
  {
   "cell_type": "code",
   "execution_count": null,
   "metadata": {
    "tags": []
   },
   "outputs": [],
   "source": [
    "features = [\"max_inc\", \"auc_g\"]\n",
    "\n",
    "box_pairs, pvalues = feature_pipeline.sig_brackets(\n",
    "    \"test\", stats_effect_type=\"within\", plot_type=\"multi\", features=features, x=\"condition\", subplots=True\n",
    ")\n",
    "\n",
    "fig, axs = bp.protocols.plotting.saliva_multi_feature_boxplot(\n",
    "    data=cort_features_analysis,\n",
    "    saliva_type=\"cortisol\",\n",
    "    features=features,\n",
    "    x=\"saliva_feature\",\n",
    "    hue=\"condition\",\n",
    "    hue_order=hue_order,\n",
    "    stats_kwargs={\"box_pairs\": box_pairs, \"pvalues\": pvalues, \"verbose\": 0},\n",
    "    legend_loc=\"upper center\",\n",
    "    legend_orientation=\"horizontal\",\n",
    "    rect=(0, 0, 1, 0.925),\n",
    "    palette=cmaps.faculties_light,\n",
    ")"
   ]
  },
  {
   "cell_type": "markdown",
   "metadata": {},
   "source": [
    "## Multiplot – Cortisol Response + Boxplots"
   ]
  },
  {
   "cell_type": "code",
   "execution_count": null,
   "metadata": {
    "tags": []
   },
   "outputs": [],
   "source": [
    "fig, axs = plt.subplots(ncols=3, figsize=(12, 4), gridspec_kw={\"width_ratios\": [4, 1, 1]})\n",
    "\n",
    "features = [\"max_inc\", \"auc_g\"]\n",
    "xticklabels = {\"max_inc\": [\"f-TSST\", \"TSST\"], \"auc_g\": [\"f-TSST\", \"TSST\"]}\n",
    "\n",
    "tsst.saliva_plot(\"cortisol\", hue_order=hue_order, ax=axs[0])\n",
    "\n",
    "\n",
    "box_pairs, pvalues = feature_pipeline.sig_brackets(\n",
    "    \"test\", stats_effect_type=\"within\", plot_type=\"single\", features=features, x=\"condition\", subplots=True\n",
    ")\n",
    "\n",
    "bp.protocols.plotting.saliva_multi_feature_boxplot(\n",
    "    data=cort_features_analysis,\n",
    "    saliva_type=\"cortisol\",\n",
    "    x=\"condition\",\n",
    "    features=features,\n",
    "    xticklabels=xticklabels,\n",
    "    stats_kwargs={\"box_pairs\": box_pairs, \"pvalues\": pvalues, \"verbose\": 0},\n",
    "    legend_loc=\"upper right\",\n",
    "    legend_orientation=\"vertical\",\n",
    "    palette=cmaps.faculties_light,\n",
    "    axs=axs[1:],\n",
    ")\n",
    "\n",
    "for ax, text, title in zip(axs, list(\"123\"), [\"Cortisol Response to (f-)TSST\", r\"$\\Delta c_{max}$\", r\"$AUC_{G}$\"]):\n",
    "    ax.set_title(f\"({text}) {title}\")\n",
    "\n",
    "for ax in axs[1:]:\n",
    "    ax.set_xlabel(\"Condition\")\n",
    "\n",
    "fig.tight_layout(w_pad=1.0)\n",
    "fig.savefig(img_path.joinpath(\"img_cortisol_response_multiplot_mainstudy.pdf\"), transparent=True)"
   ]
  },
  {
   "cell_type": "markdown",
   "metadata": {},
   "source": [
    "## TeX Output"
   ]
  },
  {
   "cell_type": "code",
   "execution_count": null,
   "metadata": {
    "tags": []
   },
   "outputs": [],
   "source": [
    "sample_pipeline.stats_to_latex(stats_test=\"pairwise_tests\")"
   ]
  },
  {
   "cell_type": "code",
   "execution_count": null,
   "metadata": {
    "tags": []
   },
   "outputs": [],
   "source": [
    "feature_pipeline.stats_to_latex(stats_test=\"pairwise_tests\")"
   ]
  },
  {
   "cell_type": "markdown",
   "metadata": {},
   "source": [
    "## Export"
   ]
  },
  {
   "cell_type": "code",
   "execution_count": null,
   "metadata": {
    "tags": []
   },
   "outputs": [],
   "source": [
    "bp.io.write_pandas_dict_excel(dict_information, output_path.joinpath(\"descriptive_information_saliva.xlsx\"))"
   ]
  },
  {
   "cell_type": "code",
   "execution_count": null,
   "metadata": {},
   "outputs": [],
   "source": []
  }
 ],
 "metadata": {
  "kernelspec": {
   "display_name": "stresspose_analysis",
   "language": "python",
   "name": "stresspose_analysis"
  },
  "language_info": {
   "codemirror_mode": {
    "name": "ipython",
    "version": 3
   },
   "file_extension": ".py",
   "mimetype": "text/x-python",
   "name": "python",
   "nbconvert_exporter": "python",
   "pygments_lexer": "ipython3",
   "version": "3.9.13"
  }
 },
 "nbformat": 4,
 "nbformat_minor": 4
}
