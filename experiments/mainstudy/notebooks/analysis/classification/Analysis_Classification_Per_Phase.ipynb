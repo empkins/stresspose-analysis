{
 "cells": [
  {
   "cell_type": "markdown",
   "metadata": {},
   "source": [
    "# Analysis of Classification Results – TSST vs. f-TSST (per Phase)"
   ]
  },
  {
   "cell_type": "markdown",
   "metadata": {
    "tags": []
   },
   "source": [
    "## Imports and Helper Functions"
   ]
  },
  {
   "cell_type": "code",
   "execution_count": null,
   "metadata": {
    "tags": []
   },
   "outputs": [],
   "source": [
    "import json\n",
    "import re\n",
    "from pathlib import Path\n",
    "\n",
    "import biopsykit as bp\n",
    "import matplotlib.pyplot as plt\n",
    "import pandas as pd\n",
    "import seaborn as sns\n",
    "from biopsykit.classification.analysis import (\n",
    "    predictions_as_df,\n",
    "    predict_proba_from_estimator,\n",
    "    plot_conf_matrix,\n",
    "    plot_conf_matrix_proba,\n",
    ")\n",
    "from biopsykit.classification.model_selection import SklearnPipelinePermuter\n",
    "from fau_colors import cmaps, register_fausans_font\n",
    "\n",
    "from stresspose_analysis.datasets import MainStudyDataset\n",
    "from stresspose_analysis.classification.utils import (\n",
    "    feature_data_long_to_wide,\n",
    "    shap_values_per_fold,\n",
    "    get_shap_feature_importances,\n",
    ")\n",
    "from stresspose_analysis.plotting.mainstudy import shap_feature_importances_plot\n",
    "\n",
    "\n",
    "%load_ext autoreload\n",
    "%autoreload 2\n",
    "%matplotlib widget"
   ]
  },
  {
   "cell_type": "code",
   "execution_count": null,
   "metadata": {
    "tags": []
   },
   "outputs": [],
   "source": [
    "register_fausans_font()\n",
    "plt.close(\"all\")\n",
    "\n",
    "palette = sns.color_palette(cmaps.faculties)\n",
    "sns.set_theme(context=\"notebook\", style=\"ticks\", palette=palette)\n",
    "\n",
    "plt.rcParams[\"figure.figsize\"] = (8, 4)\n",
    "plt.rcParams[\"pdf.fonttype\"] = 42\n",
    "plt.rcParams[\"mathtext.default\"] = \"regular\"\n",
    "plt.rcParams[\"font.family\"] = \"sans-serif\"\n",
    "plt.rcParams[\"font.sans-serif\"] = \"FAUSans Office\"\n",
    "\n",
    "\n",
    "palette"
   ]
  },
  {
   "cell_type": "markdown",
   "metadata": {
    "tags": []
   },
   "source": [
    "## Setup Paths"
   ]
  },
  {
   "cell_type": "code",
   "execution_count": null,
   "metadata": {
    "tags": []
   },
   "outputs": [],
   "source": [
    "deploy_type = \"local\""
   ]
  },
  {
   "cell_type": "code",
   "execution_count": null,
   "metadata": {
    "tags": []
   },
   "outputs": [],
   "source": [
    "config_path = Path(\"../../../config.json\")\n",
    "config_dict = json.load(config_path.open(encoding=\"utf-8\"))\n",
    "\n",
    "base_path = Path(config_dict[deploy_type][\"base_path\"])\n",
    "dataset = MainStudyDataset(base_path)\n",
    "dataset"
   ]
  },
  {
   "cell_type": "code",
   "execution_count": null,
   "metadata": {
    "tags": []
   },
   "outputs": [],
   "source": [
    "label_mapping = {\"tsst\": \"TSST\", \"ftsst\": \"f-TSST\"}"
   ]
  },
  {
   "cell_type": "markdown",
   "metadata": {},
   "source": [
    "## Load Data"
   ]
  },
  {
   "cell_type": "code",
   "execution_count": null,
   "metadata": {
    "tags": []
   },
   "outputs": [],
   "source": [
    "classification_type = \"per_phase\""
   ]
  },
  {
   "cell_type": "code",
   "execution_count": null,
   "metadata": {
    "tags": []
   },
   "outputs": [],
   "source": [
    "root_path = Path(\"../../..\")\n",
    "input_path = root_path.joinpath(f\"output/classification\")\n",
    "output_path = root_path.joinpath(\"results\")"
   ]
  },
  {
   "cell_type": "code",
   "execution_count": null,
   "metadata": {
    "tags": []
   },
   "outputs": [],
   "source": [
    "img_path = output_path.joinpath(\"plots\")\n",
    "bp.utils.file_handling.mkdirs([img_path])"
   ]
  },
  {
   "cell_type": "code",
   "execution_count": null,
   "metadata": {
    "tags": []
   },
   "outputs": [],
   "source": [
    "pickle_files = sorted(input_path.glob(\"*.pkl\"))"
   ]
  },
  {
   "cell_type": "code",
   "execution_count": null,
   "metadata": {
    "tags": []
   },
   "outputs": [],
   "source": [
    "feature_file = sorted(input_path.glob(f\"movement_features_per_phase_for_classification.csv\"))[0]"
   ]
  },
  {
   "cell_type": "markdown",
   "metadata": {
    "tags": []
   },
   "source": [
    "## Load `PipelinePermuter`"
   ]
  },
  {
   "cell_type": "code",
   "execution_count": null,
   "metadata": {
    "tags": []
   },
   "outputs": [],
   "source": [
    "pipeline_permuter = SklearnPipelinePermuter.merge_permuter_instances(pickle_files)\n",
    "# pipeline_permuter = SklearnPipelinePermuter.from_pickle(pickle_files[0])"
   ]
  },
  {
   "cell_type": "markdown",
   "metadata": {},
   "source": [
    "### Features"
   ]
  },
  {
   "cell_type": "code",
   "execution_count": null,
   "metadata": {
    "tags": []
   },
   "outputs": [],
   "source": [
    "data = bp.io.load_long_format_csv(feature_file)\n",
    "data = data.rename(index=label_mapping, level=\"condition\")\n",
    "data.head()"
   ]
  },
  {
   "cell_type": "code",
   "execution_count": null,
   "metadata": {
    "tags": []
   },
   "outputs": [],
   "source": [
    "data_wide = feature_data_long_to_wide(data, index_levels_out=[\"subject\", \"condition\"])\n",
    "data_wide.head()"
   ]
  },
  {
   "cell_type": "markdown",
   "metadata": {},
   "source": [
    "## Display Results"
   ]
  },
  {
   "cell_type": "markdown",
   "metadata": {},
   "source": [
    "### Metric Summary"
   ]
  },
  {
   "cell_type": "markdown",
   "metadata": {},
   "source": [
    "The summary of all relevant metrics (performance scores, confusion matrix, true and predicted labels) of the **best pipelines** for each fold (i.e., the `best_estimator_` parameter of each inner `cv` object), evaluated for each evaluated pipeline combination."
   ]
  },
  {
   "cell_type": "code",
   "execution_count": null,
   "metadata": {
    "tags": []
   },
   "outputs": [],
   "source": [
    "metric_summary = pipeline_permuter.metric_summary(additional_metrics=[\"f1_score\", \"precision\"], pos_label=\"tsst\")\n",
    "metric_summary = metric_summary.sort_values(by=\"mean_test_accuracy\", ascending=False)\n",
    "metric_summary.head()"
   ]
  },
  {
   "cell_type": "markdown",
   "metadata": {},
   "source": [
    "### Best Pipeline per Classifier"
   ]
  },
  {
   "cell_type": "code",
   "execution_count": null,
   "metadata": {
    "tags": []
   },
   "outputs": [],
   "source": [
    "best_clfs = metric_summary.groupby(\"pipeline_clf\", group_keys=False).apply(\n",
    "    lambda df: df.sort_values(by=\"mean_test_accuracy\", ascending=False).iloc[[0]]\n",
    ")\n",
    "best_clfs = best_clfs.sort_values(by=\"mean_test_accuracy\", ascending=False)\n",
    "best_clfs = best_clfs.droplevel(level=\"pipeline_remove_var\")\n",
    "best_clfs"
   ]
  },
  {
   "cell_type": "code",
   "execution_count": null,
   "metadata": {
    "tags": []
   },
   "outputs": [],
   "source": [
    "latex_output = pipeline_permuter.metric_summary_to_latex(\n",
    "    data=best_clfs,\n",
    "    pipeline_steps=[\"pipeline_scaler\", \"pipeline_reduce_dim\", \"pipeline_clf\"],\n",
    "    clines=None,\n",
    "    sparse_index=False,\n",
    "    highlight_best=True,\n",
    "    si_table_format=\"table-format = 2.1(3)\",\n",
    "    caption=r\"\\textit{Main Study}: Mean $\\pm$ standard deviation of classification performance metrics over the 5-fold model evaluation CV with features separately computed over the \\textit{Interview} and \\textit{Mental Arithmetics} phases of the (f-)TSST, respectively. For each evaluated classifier, the classification pipeline combination with the highest mean accuracy is shown. The classification pipelines scoring the highest metrics are highlighted in \\textbf{bold}.\",\n",
    "    label=\"tab:classification_results_per_phase_mainstudy\",\n",
    ")\n",
    "# some dirty manual postprocessing of output\n",
    "latex_output = re.sub(r\"\\\\cline{1-4} \\\\cline{2-4}\\n\\\\bottomrule\", r\"\\\\bottomrule\", latex_output)\n",
    "latex_output = re.sub(r\"\\\\cline{1-4} \\\\cline{2-4}\", r\"\\\\cline{1-4}\", latex_output)\n",
    "latex_output = re.sub(\n",
    "    r\"{} & {} & {}\", r\"{Scaler} & {\\\\makecell[lc]{Feature\\\\\\\\ Selection}} & {Classifier}\", latex_output, count=1\n",
    ")\n",
    "latex_output = re.sub(\n",
    "    r\"{Scaler} & {\\\\makecell\\[lc\\]{Feature\\\\\\\\ Selection}} & {Classifier} & {} & {} & {} \\\\\\\\\\n\", r\"\", latex_output\n",
    ")\n",
    "\n",
    "print(latex_output)"
   ]
  },
  {
   "cell_type": "markdown",
   "metadata": {},
   "source": [
    "## Detailed Analysis"
   ]
  },
  {
   "cell_type": "code",
   "execution_count": null,
   "metadata": {
    "tags": []
   },
   "outputs": [],
   "source": [
    "selected_pipeline = (\"VarianceThreshold\", \"MinMaxScaler\", \"SelectFromModel\", \"RandomForestClassifier\")\n",
    "\n",
    "labels = [\"TSST\", \"f-TSST\"]"
   ]
  },
  {
   "cell_type": "code",
   "execution_count": null,
   "metadata": {
    "tags": []
   },
   "outputs": [],
   "source": [
    "best_estimator_summary = pipeline_permuter.best_estimator_summary()\n",
    "best_estimator_summary.head()"
   ]
  },
  {
   "cell_type": "code",
   "execution_count": null,
   "metadata": {
    "tags": []
   },
   "outputs": [],
   "source": [
    "predictions = predictions_as_df(pipeline_permuter, data_wide, selected_pipeline, label_mapping)\n",
    "predictions = predictions.join(dataset.condition_order).join(dataset.cort_non_responder)\n",
    "predictions = predictions.join(\n",
    "    bp.utils.dataframe_handling.apply_codebook(pd.DataFrame(dataset.gender), dataset.codebook)\n",
    ")\n",
    "predictions.head()"
   ]
  },
  {
   "cell_type": "markdown",
   "metadata": {},
   "source": [
    "### Confusion Matrix"
   ]
  },
  {
   "cell_type": "code",
   "execution_count": null,
   "metadata": {
    "tags": []
   },
   "outputs": [],
   "source": [
    "fig, ax = plt.subplots(figsize=(3, 3))\n",
    "plot_conf_matrix(predictions, labels, label_name=\"condition\", ax=ax)\n",
    "fig.tight_layout(pad=0)\n",
    "\n",
    "fig.savefig(img_path.joinpath(\"img_confusion_matrix_per_phase_mainstudy.pdf\"), transparent=True)"
   ]
  },
  {
   "cell_type": "markdown",
   "metadata": {},
   "source": [
    "#### Confusion Matrix for Paper Teaser Figure"
   ]
  },
  {
   "cell_type": "code",
   "execution_count": null,
   "metadata": {
    "tags": []
   },
   "outputs": [],
   "source": [
    "with sns.plotting_context(\"talk\"):\n",
    "    fig, ax = plt.subplots(figsize=(4, 4))\n",
    "    plot_conf_matrix(\n",
    "        predictions, labels={\"TSST\": \"Stress\", \"f-TSST\": \"No Stress\"}, label_name=\"condition\", despine=False, ax=ax\n",
    "    )\n",
    "    fig.tight_layout(pad=0.1)\n",
    "\n",
    "    fig.savefig(img_path.joinpath(\"img_confusion_matrix_teaserfigure.pdf\"), transparent=True)"
   ]
  },
  {
   "cell_type": "markdown",
   "metadata": {},
   "source": [
    "### Confusion Matrix by Condition Order"
   ]
  },
  {
   "cell_type": "code",
   "execution_count": null,
   "metadata": {
    "tags": []
   },
   "outputs": [],
   "source": [
    "fig, axs = plt.subplots(figsize=(6, 3), ncols=2)\n",
    "\n",
    "for (key, df), ax in zip(predictions.groupby(\"condition_order\"), axs):\n",
    "    plot_conf_matrix(df, labels, label_name=\"condition\", ax=ax)\n",
    "    ax.set_title(key)\n",
    "\n",
    "fig.tight_layout(pad=0, w_pad=1)"
   ]
  },
  {
   "cell_type": "markdown",
   "metadata": {},
   "source": [
    "### Confusion Matrix by Cortisol Non-Responder"
   ]
  },
  {
   "cell_type": "code",
   "execution_count": null,
   "metadata": {
    "tags": []
   },
   "outputs": [],
   "source": [
    "fig, axs = plt.subplots(figsize=(6, 3), ncols=2)\n",
    "\n",
    "for (key, df), ax in zip(predictions.groupby(\"non_responder\"), axs):\n",
    "    plot_conf_matrix(df, labels, ax=ax)\n",
    "    ax.set_title(f\"Non-Responder: {key}\")\n",
    "\n",
    "fig.tight_layout(pad=0, w_pad=1)"
   ]
  },
  {
   "cell_type": "markdown",
   "metadata": {},
   "source": [
    "### Confusion Matrix by Gender"
   ]
  },
  {
   "cell_type": "code",
   "execution_count": null,
   "metadata": {
    "tags": []
   },
   "outputs": [],
   "source": [
    "fig, axs = plt.subplots(figsize=(6, 3), ncols=2)\n",
    "\n",
    "for (key, df), ax in zip(predictions.groupby(\"Gender\"), axs):\n",
    "    plot_conf_matrix(df, labels, ax=ax)\n",
    "    ax.set_title(f\"Gender: {key}\")\n",
    "\n",
    "fig.tight_layout(pad=0, w_pad=1)"
   ]
  },
  {
   "cell_type": "markdown",
   "metadata": {},
   "source": [
    "### Prediction Probability"
   ]
  },
  {
   "cell_type": "code",
   "execution_count": null,
   "metadata": {
    "tags": []
   },
   "outputs": [],
   "source": [
    "predictions_proba = predict_proba_from_estimator(\n",
    "    pipeline_permuter, data_wide, selected_pipeline, label_col=\"condition\", column_names=label_mapping\n",
    ")"
   ]
  },
  {
   "cell_type": "code",
   "execution_count": null,
   "metadata": {
    "tags": []
   },
   "outputs": [],
   "source": [
    "fig, ax = plt.subplots(figsize=(3, 3))\n",
    "\n",
    "plot_conf_matrix_proba(predictions_proba, labels=labels, label_col=\"condition\", ax=ax)\n",
    "\n",
    "fig.tight_layout(pad=0)"
   ]
  },
  {
   "cell_type": "code",
   "execution_count": null,
   "metadata": {
    "tags": []
   },
   "outputs": [],
   "source": [
    "predictions_proba_cond = predictions_proba.join(dataset.condition_order).join(dataset.cort_non_responder)\n",
    "predictions_proba_cond = predictions_proba_cond.set_index([\"condition_order\", \"non_responder\"], append=True)"
   ]
  },
  {
   "cell_type": "markdown",
   "metadata": {},
   "source": [
    "### Prediction Probability by Condition Order"
   ]
  },
  {
   "cell_type": "code",
   "execution_count": null,
   "metadata": {
    "tags": []
   },
   "outputs": [],
   "source": [
    "fig, axs = plt.subplots(figsize=(6, 3), ncols=2)\n",
    "\n",
    "for (key, df), ax in zip(predictions_proba_cond.groupby(\"condition_order\"), axs):\n",
    "    plot_conf_matrix_proba(df, labels=labels, label_col=\"condition\", ax=ax)\n",
    "    ax.set_title(key)\n",
    "\n",
    "fig.tight_layout(w_pad=1)"
   ]
  },
  {
   "cell_type": "markdown",
   "metadata": {},
   "source": [
    "### Prediction Probability by Cortisol Non-Responder"
   ]
  },
  {
   "cell_type": "code",
   "execution_count": null,
   "metadata": {
    "tags": []
   },
   "outputs": [],
   "source": [
    "fig, axs = plt.subplots(figsize=(6, 3), ncols=2)\n",
    "\n",
    "for (key, df), ax in zip(predictions_proba_cond.groupby(\"non_responder\"), axs):\n",
    "    plot_conf_matrix_proba(df, labels=labels, label_col=\"condition\", ax=ax)\n",
    "    ax.set_title(f\"Non-Responder: {key}\")\n",
    "\n",
    "fig.tight_layout(w_pad=1)"
   ]
  },
  {
   "cell_type": "markdown",
   "metadata": {},
   "source": [
    "## Get Feature Importances using SHAP"
   ]
  },
  {
   "cell_type": "code",
   "execution_count": null,
   "metadata": {
    "tags": []
   },
   "outputs": [],
   "source": [
    "shap_values, data_out = shap_values_per_fold(pipeline_permuter, selected_pipeline, data_wide)"
   ]
  },
  {
   "cell_type": "markdown",
   "metadata": {},
   "source": [
    "### SHAP Summary Plot"
   ]
  },
  {
   "cell_type": "code",
   "execution_count": null,
   "metadata": {
    "tags": []
   },
   "outputs": [],
   "source": [
    "fig, ax = plt.subplots()\n",
    "shap_feature_importances_plot(shap_values[0], features=data_out, plot_size=(12, 5))\n",
    "\n",
    "fig.savefig(img_path.joinpath(\"img_feature_shap_importance_per_phase_mainstudy.pdf\"), transparent=True)"
   ]
  },
  {
   "cell_type": "markdown",
   "metadata": {},
   "source": [
    "### Most Important Features"
   ]
  },
  {
   "cell_type": "code",
   "execution_count": null,
   "metadata": {
    "tags": []
   },
   "outputs": [],
   "source": [
    "feature_importances = get_shap_feature_importances(shap_values[0], data)"
   ]
  },
  {
   "cell_type": "code",
   "execution_count": null,
   "metadata": {
    "tags": []
   },
   "outputs": [],
   "source": [
    "n = 40\n",
    "top_features = feature_importances.head(n=n)\n",
    "top_features.head()"
   ]
  },
  {
   "cell_type": "markdown",
   "metadata": {},
   "source": [
    "#### Per Feature Type"
   ]
  },
  {
   "cell_type": "code",
   "execution_count": null,
   "metadata": {
    "tags": []
   },
   "outputs": [],
   "source": [
    "number_features = pd.DataFrame(top_features.groupby(\"feature_type\").size(), columns=[\"Count\"]).T\n",
    "number_features[\"total\"] = [len(top_features)]\n",
    "number_features"
   ]
  },
  {
   "cell_type": "markdown",
   "metadata": {},
   "source": [
    "#### Per Channel"
   ]
  },
  {
   "cell_type": "code",
   "execution_count": null,
   "metadata": {
    "tags": []
   },
   "outputs": [],
   "source": [
    "number_features = pd.DataFrame(top_features.groupby(\"channel\").size(), columns=[\"Count\"]).T\n",
    "number_features[\"total\"] = [len(top_features)]\n",
    "number_features"
   ]
  },
  {
   "cell_type": "markdown",
   "metadata": {},
   "source": [
    "#### Per Metric"
   ]
  },
  {
   "cell_type": "code",
   "execution_count": null,
   "metadata": {
    "tags": []
   },
   "outputs": [],
   "source": [
    "number_features = pd.DataFrame(top_features.groupby(\"metric\").size(), columns=[\"Count\"]).T\n",
    "\n",
    "fft_features = [\"fft_aggregated_centroid\", \"fft_aggregated_kurtosis\", \"fft_aggregated_variance\", \"fft_aggregated_skew\"]\n",
    "number_features = number_features.assign(\n",
    "    fft=number_features.reindex(fft_features, axis=1).sum().sum().astype(int), total=len(top_features)\n",
    ")\n",
    "number_features = number_features.drop(columns=fft_features, errors=\"ignore\")\n",
    "\n",
    "number_features"
   ]
  },
  {
   "cell_type": "markdown",
   "metadata": {},
   "source": [
    "#### Per Body Part"
   ]
  },
  {
   "cell_type": "code",
   "execution_count": null,
   "metadata": {
    "tags": []
   },
   "outputs": [],
   "source": [
    "upper_extremities = [\n",
    "    \"LeftHand_RightHand\",\n",
    "    \"LeftHand_Head\",\n",
    "    \"RightHand_Head\",\n",
    "    \"LeftHand\",\n",
    "    \"UpperExtremities\",\n",
    "]\n",
    "lower_extremities = [\"LowerExtremities\", \"LeftFoot_RightFoot\"]\n",
    "trunk = [\n",
    "    \"T8\",\n",
    "    \"Trunk\",\n",
    "]\n",
    "head = [\n",
    "    \"Head\",\n",
    "]\n",
    "total_body = [\"TotalBody\", \"CenterMass\"]\n",
    "\n",
    "feature_counts_body_part = top_features.groupby(\"body_part\").size().sort_values(ascending=False)\n",
    "feature_counts_body_part = pd.DataFrame(feature_counts_body_part, columns=[\"Counts\"])\n",
    "\n",
    "print_dict = {\n",
    "    \"Head\": head,\n",
    "    \"Upper Extremities\": upper_extremities,\n",
    "    \"Lower Extremities\": lower_extremities,\n",
    "    \"Trunk\": trunk,\n",
    "    \"Total Body\": total_body,\n",
    "}\n",
    "\n",
    "for key, value in print_dict.items():\n",
    "    print(f\"{key}: {int(feature_counts_body_part.reindex(value).sum().sum())}\")\n",
    "\n",
    "feature_counts_body_part"
   ]
  },
  {
   "cell_type": "code",
   "execution_count": null,
   "metadata": {
    "tags": []
   },
   "outputs": [],
   "source": [
    "features_plot = feature_importances.head(n=5).index\n",
    "data_unstack = data[\"data\"].unstack([\"subject\", \"condition\"]).T\n",
    "data_plot = data_unstack.loc[:, features_plot]\n",
    "data_plot.columns = [\"-\".join(col) for col in data_plot.columns]\n",
    "\n",
    "pairgrid, features = bp.plotting.feature_pairplot(data=data_plot, hue=\"condition\")\n",
    "display(features)"
   ]
  },
  {
   "cell_type": "code",
   "execution_count": null,
   "metadata": {},
   "outputs": [],
   "source": []
  }
 ],
 "metadata": {
  "kernelspec": {
   "display_name": "stresspose_analysis",
   "language": "python",
   "name": "stresspose_analysis"
  },
  "language_info": {
   "codemirror_mode": {
    "name": "ipython",
    "version": 3
   },
   "file_extension": ".py",
   "mimetype": "text/x-python",
   "name": "python",
   "nbconvert_exporter": "python",
   "pygments_lexer": "ipython3",
   "version": "3.9.13"
  }
 },
 "nbformat": 4,
 "nbformat_minor": 4
}
