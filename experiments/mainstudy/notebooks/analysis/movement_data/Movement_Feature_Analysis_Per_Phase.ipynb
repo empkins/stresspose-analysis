{
 "cells": [
  {
   "cell_type": "markdown",
   "metadata": {},
   "source": [
    "# Movement Feature Analysis - Per Phase"
   ]
  },
  {
   "cell_type": "markdown",
   "metadata": {},
   "source": [
    "## Imports and Global Helper Functions"
   ]
  },
  {
   "cell_type": "code",
   "execution_count": null,
   "metadata": {
    "tags": []
   },
   "outputs": [],
   "source": [
    "import re\n",
    "import warnings\n",
    "from pathlib import Path\n",
    "\n",
    "import biopsykit as bp\n",
    "import matplotlib.pyplot as plt\n",
    "import pandas as pd\n",
    "import seaborn as sns\n",
    "from biopsykit.stats import StatsPipeline\n",
    "from fau_colors import cmaps, register_fausans_font\n",
    "\n",
    "from stresspose_analysis.data_wrangling import (\n",
    "    add_concat_feature_name_to_index,\n",
    "    add_multiindex_to_stats_results,\n",
    "    rename_motion_features,\n",
    ")\n",
    "from stresspose_analysis.plotting.mainstudy import plot_motion_features_per_phase\n",
    "\n",
    "\n",
    "%load_ext autoreload\n",
    "%autoreload 2\n",
    "%matplotlib widget"
   ]
  },
  {
   "cell_type": "code",
   "execution_count": null,
   "metadata": {
    "tags": []
   },
   "outputs": [],
   "source": [
    "register_fausans_font()\n",
    "\n",
    "plt.close(\"all\")\n",
    "\n",
    "palette = sns.color_palette(cmaps.faculties_light)\n",
    "sns.set_theme(context=\"notebook\", style=\"ticks\", palette=palette)\n",
    "\n",
    "plt.rcParams[\"figure.figsize\"] = (10, 5)\n",
    "plt.rcParams[\"pdf.fonttype\"] = 42\n",
    "plt.rcParams[\"mathtext.default\"] = \"regular\"\n",
    "plt.rcParams[\"font.family\"] = \"sans-serif\"\n",
    "plt.rcParams[\"font.sans-serif\"] = \"FAUSans Office\"\n",
    "\n",
    "\n",
    "palette"
   ]
  },
  {
   "cell_type": "markdown",
   "metadata": {},
   "source": [
    "## Setup Paths"
   ]
  },
  {
   "cell_type": "code",
   "execution_count": null,
   "metadata": {
    "tags": []
   },
   "outputs": [],
   "source": [
    "root_path = Path(\"../../../\")\n",
    "input_path = root_path.joinpath(\"output/classification\")"
   ]
  },
  {
   "cell_type": "code",
   "execution_count": null,
   "metadata": {
    "tags": []
   },
   "outputs": [],
   "source": [
    "output_path = root_path.joinpath(\"results\")\n",
    "img_path = output_path.joinpath(\"plots\")\n",
    "stats_path = output_path.joinpath(\"statistics\")\n",
    "\n",
    "bp.utils.file_handling.mkdirs([img_path, stats_path])"
   ]
  },
  {
   "cell_type": "code",
   "execution_count": null,
   "metadata": {
    "tags": []
   },
   "outputs": [],
   "source": [
    "# dict for renaming condition names for use in plots\n",
    "condition_mapping = {\"tsst\": \"TSST\", \"ftsst\": \"f-TSST\"}"
   ]
  },
  {
   "cell_type": "markdown",
   "metadata": {},
   "source": [
    "## Load Data"
   ]
  },
  {
   "cell_type": "code",
   "execution_count": null,
   "metadata": {
    "tags": []
   },
   "outputs": [],
   "source": [
    "feature_files = sorted(input_path.glob(\"*_movement_features_per_phase_for_classification*.csv\"))\n",
    "\n",
    "job_ids = [re.findall(r\"\\d+\", str(file.name))[0] for file in feature_files]\n",
    "job_ids"
   ]
  },
  {
   "cell_type": "code",
   "execution_count": null,
   "metadata": {
    "tags": []
   },
   "outputs": [],
   "source": [
    "index = -1\n",
    "\n",
    "feature_file = feature_files[index]\n",
    "\n",
    "print(\"Selected File:\")\n",
    "print(f\"{feature_file.name}\")"
   ]
  },
  {
   "cell_type": "code",
   "execution_count": null,
   "metadata": {
    "tags": []
   },
   "outputs": [],
   "source": [
    "data = bp.io.load_long_format_csv(feature_file)\n",
    "data = data.rename(index=condition_mapping, level=\"condition\")\n",
    "data = add_concat_feature_name_to_index(data)\n",
    "\n",
    "data.head()"
   ]
  },
  {
   "cell_type": "markdown",
   "metadata": {},
   "source": [
    "## Information about All Features"
   ]
  },
  {
   "cell_type": "code",
   "execution_count": null,
   "metadata": {
    "tags": []
   },
   "outputs": [],
   "source": [
    "data_unstack = data.unstack([\"subject\", \"condition\"])\n",
    "num_features = pd.DataFrame(data_unstack.groupby(\"feature_type\").size(), columns=[\"Count\"]).T\n",
    "num_features[\"Total\"] = len(data_unstack)\n",
    "\n",
    "num_features"
   ]
  },
  {
   "cell_type": "markdown",
   "metadata": {},
   "source": [
    "## Analysis"
   ]
  },
  {
   "cell_type": "markdown",
   "metadata": {},
   "source": [
    "### Statistics"
   ]
  },
  {
   "cell_type": "code",
   "execution_count": null,
   "metadata": {
    "tags": []
   },
   "outputs": [],
   "source": [
    "steps = [(\"prep\", \"normality\"), (\"test\", \"pairwise_tests\")]\n",
    "params = {\n",
    "    \"dv\": \"data\",\n",
    "    \"within\": \"condition\",\n",
    "    \"subject\": \"subject\",\n",
    "    \"groupby\": \"feature_concat\",\n",
    "    \"multicomp\": {\"method\": \"bonf\", \"levels\": True},\n",
    "    \"parametric\": False,\n",
    "}\n",
    "\n",
    "pipeline = StatsPipeline(\n",
    "    steps=steps,\n",
    "    params=params,\n",
    ")\n",
    "\n",
    "with warnings.catch_warnings():\n",
    "    warnings.filterwarnings(\"ignore\", category=UserWarning)\n",
    "    pipeline.apply(data)\n",
    "\n",
    "pipeline.export_statistics(stats_path.joinpath(\"stats_motion_features_per_phase.xlsx\"))"
   ]
  },
  {
   "cell_type": "markdown",
   "metadata": {},
   "source": [
    "### Information about Significant Features"
   ]
  },
  {
   "cell_type": "code",
   "execution_count": null,
   "metadata": {
    "tags": []
   },
   "outputs": [],
   "source": [
    "data_stats = pipeline.results[\"pairwise_tests\"][[\"A\", \"B\", \"W-val\", \"p-corr\", \"hedges\"]].droplevel(-1)\n",
    "data_stats = add_multiindex_to_stats_results(data_stats, data)\n",
    "data_stats = data_stats.sort_values(by=\"p-corr\", ascending=True)\n",
    "data_stats_sig = data_stats[data_stats[\"p-corr\"] < 0.05]"
   ]
  },
  {
   "cell_type": "code",
   "execution_count": null,
   "metadata": {
    "tags": []
   },
   "outputs": [],
   "source": [
    "index_level_names_tex = [\"Phase\", \"Feature Type\", \"Body Part\", \"Channel\", \"Type\", \"Metric\"]\n",
    "data_stats_table = data_stats_sig.droplevel(\"feature_concat\")\n",
    "data_stats_table = rename_motion_features(data_stats_table)\n",
    "\n",
    "for index_level in data_stats_table.index.names:\n",
    "    data_stats_table = data_stats_table.rename(index=lambda x: x.replace(\"%\", \"\\%\"), level=index_level)\n",
    "\n",
    "data_stats_table = data_stats_table.droplevel([\"A\", \"B\"])\n",
    "\n",
    "ttest_result_latex = pipeline.results_to_latex_table(\n",
    "    stats_test=\"within\",\n",
    "    data=data_stats_table,\n",
    "    index_kws={\"index_level_names_tex\": index_level_names_tex},\n",
    "    caption=\"Results of statistical tests of extracted body posture and movement features between TSST and f-TSST from the \\\\textit{Main Study}, computed seperately over \\\\textit{Interview} and \\\\textit{Mental Arithmetics} phases of the (f-)TSST. p-values are corrected for multiple comparisons using the Bonferroni method. \\\\textit{Note}: Only motion features with statistically significant ($p < 0.05$) differences are shown.\",\n",
    "    show_a_b=False,\n",
    ")\n",
    "\n",
    "# some dirty manual postprocessing of output\n",
    "ttest_result_latex = re.sub(\n",
    "    r\"\\\\sisetup{table-format = <1.3}\",\n",
    "    r\"\\\\sisetup{table-format = <1.3}\\n\\\\resizebox{\\\\textwidth}{!}{\",\n",
    "    ttest_result_latex,\n",
    ")\n",
    "ttest_result_latex = re.sub(r\"\\\\end{tabular}\", r\"\\\\end{tabular}\\n}\", ttest_result_latex)\n",
    "\n",
    "print(ttest_result_latex)"
   ]
  },
  {
   "cell_type": "code",
   "execution_count": null,
   "metadata": {
    "tags": []
   },
   "outputs": [],
   "source": [
    "result_dict = {}"
   ]
  },
  {
   "cell_type": "code",
   "execution_count": null,
   "metadata": {
    "tags": []
   },
   "outputs": [],
   "source": [
    "result_dict[\"Statistic Results\"] = data_stats_sig"
   ]
  },
  {
   "cell_type": "code",
   "execution_count": null,
   "metadata": {
    "tags": []
   },
   "outputs": [],
   "source": [
    "df_num_features = pd.DataFrame(\n",
    "    {\"All\": len(data_stats), \"Significant\": len(data_stats_sig)}, index=[\"Number of Features\"]\n",
    ").T\n",
    "result_dict[\"Features\"] = df_num_features\n",
    "df_num_features"
   ]
  },
  {
   "cell_type": "code",
   "execution_count": null,
   "metadata": {
    "tags": []
   },
   "outputs": [],
   "source": [
    "df_num_features_type = pd.DataFrame(data_stats_sig.groupby(\"feature_type\").size(), columns=[\"Number of Features\"])\n",
    "result_dict[\"Features per Type\"] = df_num_features_type\n",
    "df_num_features_type"
   ]
  },
  {
   "cell_type": "code",
   "execution_count": null,
   "metadata": {
    "tags": []
   },
   "outputs": [],
   "source": [
    "df_num_features_phase = pd.DataFrame(data_stats_sig.groupby(\"phase\").size(), columns=[\"Number of Features\"])\n",
    "result_dict[\"Features per Phase\"] = df_num_features_phase\n",
    "df_num_features_phase"
   ]
  },
  {
   "cell_type": "code",
   "execution_count": null,
   "metadata": {
    "tags": []
   },
   "outputs": [],
   "source": [
    "df_num_features_body_part = pd.DataFrame(\n",
    "    data_stats_sig.groupby(\"body_part\").size().sort_values(ascending=False), columns=[\"Number of Features\"]\n",
    ")\n",
    "result_dict[\"Features per Body Part\"] = df_num_features_body_part\n",
    "df_num_features_body_part"
   ]
  },
  {
   "cell_type": "markdown",
   "metadata": {},
   "source": [
    "## Plot Selected Motion Features"
   ]
  },
  {
   "cell_type": "code",
   "execution_count": null,
   "metadata": {
    "tags": []
   },
   "outputs": [],
   "source": [
    "for feature_type in [\"generic\", \"expert\"]:\n",
    "    fig, axs = plot_motion_features_per_phase(data, stats_pipeline=pipeline, feature_type=feature_type)\n",
    "    fig.savefig(img_path.joinpath(f\"img_motion_features_{feature_type}_per_phase.pdf\"), transparent=True)"
   ]
  },
  {
   "cell_type": "markdown",
   "metadata": {},
   "source": [
    "## Export"
   ]
  },
  {
   "cell_type": "code",
   "execution_count": null,
   "metadata": {
    "tags": []
   },
   "outputs": [],
   "source": [
    "bp.io.write_pandas_dict_excel(result_dict, output_path.joinpath(\"overview_significant_features_per_phase.xlsx\"))"
   ]
  },
  {
   "cell_type": "code",
   "execution_count": null,
   "metadata": {},
   "outputs": [],
   "source": []
  }
 ],
 "metadata": {
  "kernelspec": {
   "display_name": "stresspose_analysis",
   "language": "python",
   "name": "stresspose_analysis"
  },
  "language_info": {
   "codemirror_mode": {
    "name": "ipython",
    "version": 3
   },
   "file_extension": ".py",
   "mimetype": "text/x-python",
   "name": "python",
   "nbconvert_exporter": "python",
   "pygments_lexer": "ipython3",
   "version": "3.9.13"
  }
 },
 "nbformat": 4,
 "nbformat_minor": 4
}
