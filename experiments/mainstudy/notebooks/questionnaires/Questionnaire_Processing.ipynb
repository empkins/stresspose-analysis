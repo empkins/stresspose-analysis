{
 "cells": [
  {
   "cell_type": "markdown",
   "metadata": {},
   "source": [
    "# Questionnaire Data Processing"
   ]
  },
  {
   "cell_type": "code",
   "execution_count": null,
   "metadata": {
    "tags": []
   },
   "outputs": [],
   "source": [
    "import json\n",
    "from pathlib import Path\n",
    "\n",
    "import biopsykit as bp\n",
    "import matplotlib.pyplot as plt\n",
    "import pandas as pd\n",
    "import seaborn as sns\n",
    "from fau_colors import cmaps\n",
    "\n",
    "from stresspose_analysis.datasets.mainstudy import MainStudyDataset\n",
    "\n",
    "%load_ext autoreload\n",
    "%autoreload 2\n",
    "%matplotlib widget"
   ]
  },
  {
   "cell_type": "markdown",
   "metadata": {},
   "source": [
    "## Setup"
   ]
  },
  {
   "cell_type": "code",
   "execution_count": null,
   "metadata": {
    "tags": []
   },
   "outputs": [],
   "source": [
    "plt.close(\"all\")\n",
    "\n",
    "palette = sns.color_palette(cmaps.faculties)\n",
    "sns.set_theme(context=\"notebook\", style=\"ticks\", palette=palette)\n",
    "\n",
    "plt.rcParams[\"figure.figsize\"] = (10, 5)\n",
    "plt.rcParams[\"pdf.fonttype\"] = 42\n",
    "plt.rcParams[\"mathtext.default\"] = \"regular\"\n",
    "\n",
    "palette"
   ]
  },
  {
   "cell_type": "code",
   "execution_count": null,
   "metadata": {
    "tags": []
   },
   "outputs": [],
   "source": [
    "deploy_type = \"local\""
   ]
  },
  {
   "cell_type": "code",
   "execution_count": null,
   "metadata": {
    "tags": []
   },
   "outputs": [],
   "source": [
    "config_dict = json.load(Path(\"../../config.json\").open(encoding=\"utf-8\"))\n",
    "\n",
    "base_path = Path(config_dict[deploy_type][\"base_path\"])\n",
    "base_path"
   ]
  },
  {
   "cell_type": "code",
   "execution_count": null,
   "metadata": {
    "tags": []
   },
   "outputs": [],
   "source": [
    "path_out = base_path.joinpath(\"questionnaires/processed\")\n",
    "bp.utils.file_handling.mkdirs([path_out])"
   ]
  },
  {
   "cell_type": "code",
   "execution_count": null,
   "metadata": {
    "tags": []
   },
   "outputs": [],
   "source": [
    "dataset = MainStudyDataset(base_path)\n",
    "dataset"
   ]
  },
  {
   "cell_type": "markdown",
   "metadata": {},
   "source": [
    "## Compute Scores"
   ]
  },
  {
   "cell_type": "code",
   "execution_count": null,
   "metadata": {
    "tags": []
   },
   "outputs": [],
   "source": [
    "quest_data = dataset.questionnaire\n",
    "quest_data.head()"
   ]
  },
  {
   "cell_type": "markdown",
   "metadata": {},
   "source": [
    "### State Questionnaires"
   ]
  },
  {
   "cell_type": "code",
   "execution_count": null,
   "metadata": {
    "tags": []
   },
   "outputs": [],
   "source": [
    "level_order = [\"subject\", \"day\", \"subscale\", \"time\"]"
   ]
  },
  {
   "cell_type": "markdown",
   "metadata": {},
   "source": [
    "#### STADI - State"
   ]
  },
  {
   "cell_type": "code",
   "execution_count": null,
   "metadata": {
    "tags": []
   },
   "outputs": [],
   "source": [
    "stadi_data = {\n",
    "    f\"t{i}\": bp.questionnaires.utils.compute_scores(\n",
    "        quest_data,\n",
    "        quest_dict={\n",
    "            \"STADI-pre\": quest_data.filter(regex=f\"STADI_.*_T{i}_Pre\").columns,\n",
    "            \"STADI-post\": quest_data.filter(regex=f\"STADI_.*_T{i}_Post\").columns,\n",
    "        },\n",
    "        quest_kwargs={\"STADI-pre\": {\"stadi_type\": \"state\"}, \"STADI-post\": {\"stadi_type\": \"state\"}},\n",
    "    )\n",
    "    for i in [1, 2]\n",
    "}\n",
    "stadi_data = pd.concat(stadi_data, names=[\"day\"])\n",
    "stadi_data = bp.questionnaires.utils.wide_to_long(stadi_data, \"STADI\", levels=[\"subscale\", \"time\"])\n",
    "stadi_data = stadi_data.reorder_levels(level_order).sort_index()\n",
    "stadi_data.head()"
   ]
  },
  {
   "cell_type": "markdown",
   "metadata": {},
   "source": [
    "#### PANAS"
   ]
  },
  {
   "cell_type": "code",
   "execution_count": null,
   "metadata": {
    "tags": []
   },
   "outputs": [],
   "source": [
    "panas_data = {\n",
    "    f\"t{i}\": bp.questionnaires.utils.compute_scores(\n",
    "        quest_data,\n",
    "        quest_dict={\n",
    "            \"PANAS-pre\": quest_data.filter(regex=f\"PANAS_.*_T{i}_Pre\").columns,\n",
    "            \"PANAS-post\": quest_data.filter(regex=f\"PANAS_.*_T{i}_Post\").columns,\n",
    "        },\n",
    "        quest_kwargs={\"PANAS-pre\": {\"language\": \"german\"}, \"PANAS-post\": {\"language\": \"german\"}},\n",
    "    )\n",
    "    for i in [1, 2]\n",
    "}\n",
    "panas_data = pd.concat(panas_data, names=[\"day\"])\n",
    "panas_data = bp.questionnaires.utils.wide_to_long(panas_data, \"PANAS\", levels=[\"subscale\", \"time\"])\n",
    "panas_data = panas_data.reorder_levels(level_order).sort_index()\n",
    "panas_data"
   ]
  },
  {
   "cell_type": "markdown",
   "metadata": {},
   "source": [
    "#### PASA"
   ]
  },
  {
   "cell_type": "code",
   "execution_count": null,
   "metadata": {
    "tags": []
   },
   "outputs": [],
   "source": [
    "pasa_data_conv = bp.questionnaires.utils.convert_scale(quest_data.filter(like=\"PASA\"), offset=1)\n",
    "pasa_data_conv.head()"
   ]
  },
  {
   "cell_type": "code",
   "execution_count": null,
   "metadata": {
    "tags": []
   },
   "outputs": [],
   "source": [
    "pasa_data = bp.questionnaires.utils.compute_scores(\n",
    "    pasa_data_conv,\n",
    "    quest_dict={\n",
    "        \"PASA-T1\": pasa_data_conv.filter(regex=f\"PASA_.*_T1\").columns,\n",
    "        \"PASA-T2\": pasa_data_conv.filter(regex=f\"PASA_.*_T2\").columns,\n",
    "    },\n",
    ")\n",
    "pasa_data = bp.questionnaires.utils.wide_to_long(pasa_data, \"PASA\", [\"subscale\", \"day\"])\n",
    "pasa_data = pd.concat({\"pre\": pasa_data}, names=[\"time\"])\n",
    "pasa_data = pasa_data.reorder_levels(level_order).sort_index()\n",
    "pasa_data"
   ]
  },
  {
   "cell_type": "code",
   "execution_count": null,
   "metadata": {
    "tags": []
   },
   "outputs": [],
   "source": [
    "quest_data_out = pd.concat([stadi_data, panas_data, pasa_data])\n",
    "quest_data_out = quest_data_out.stack()\n",
    "quest_data_out.index = quest_data_out.index.set_names(\"type\", level=-1)\n",
    "quest_data_out = pd.DataFrame(quest_data_out, columns=[\"data\"])\n",
    "quest_data_out = quest_data_out.rename(str.upper, level=\"day\")\n",
    "\n",
    "quest_data_out.head()"
   ]
  },
  {
   "cell_type": "code",
   "execution_count": null,
   "metadata": {
    "tags": []
   },
   "outputs": [],
   "source": [
    "cond = dataset.day_condition_map\n",
    "cond.head()"
   ]
  },
  {
   "cell_type": "code",
   "execution_count": null,
   "metadata": {
    "tags": []
   },
   "outputs": [],
   "source": [
    "data_out = quest_data_out.join(cond).reset_index().drop(columns=\"day\")\n",
    "data_out = data_out.set_index([\"subject\", \"condition\", \"type\", \"subscale\", \"time\"]).sort_index()\n",
    "data_out"
   ]
  },
  {
   "cell_type": "markdown",
   "metadata": {},
   "source": [
    "#### Compute Relative Questionnaire Scores (pre/post)"
   ]
  },
  {
   "cell_type": "code",
   "execution_count": null,
   "metadata": {
    "tags": []
   },
   "outputs": [],
   "source": [
    "data_relative = data_out.unstack(\"time\").reindex([\"pre\", \"post\"], level=-1, axis=1).diff(axis=1)\n",
    "data_relative = data_relative.loc[:, [(\"data\", \"post\")]].droplevel(-1, axis=1)\n",
    "data_relative = data_relative.dropna().round(3)\n",
    "data_relative.head()"
   ]
  },
  {
   "cell_type": "markdown",
   "metadata": {},
   "source": [
    "## Export"
   ]
  },
  {
   "cell_type": "code",
   "execution_count": null,
   "metadata": {
    "tags": []
   },
   "outputs": [],
   "source": [
    "data_out.to_csv(path_out.joinpath(\"questionnaire_data_processed.csv\"))\n",
    "data_relative.to_csv(path_out.joinpath(\"questionnaire_data_processed_relative.csv\"))"
   ]
  },
  {
   "cell_type": "code",
   "execution_count": null,
   "metadata": {},
   "outputs": [],
   "source": []
  }
 ],
 "metadata": {
  "kernelspec": {
   "display_name": "stresspose_analysis",
   "language": "python",
   "name": "stresspose_analysis"
  },
  "language_info": {
   "codemirror_mode": {
    "name": "ipython",
    "version": 3
   },
   "file_extension": ".py",
   "mimetype": "text/x-python",
   "name": "python",
   "nbconvert_exporter": "python",
   "pygments_lexer": "ipython3",
   "version": "3.9.13"
  }
 },
 "nbformat": 4,
 "nbformat_minor": 4
}
