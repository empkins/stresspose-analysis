{
 "cells": [
  {
   "cell_type": "markdown",
   "metadata": {},
   "source": [
    "# Merge Questionnaire Data"
   ]
  },
  {
   "cell_type": "code",
   "execution_count": null,
   "metadata": {
    "tags": []
   },
   "outputs": [],
   "source": [
    "import json\n",
    "from pathlib import Path\n",
    "\n",
    "import biopsykit as bp\n",
    "import matplotlib.pyplot as plt\n",
    "import pandas as pd\n",
    "import seaborn as sns\n",
    "from fau_colors import cmaps\n",
    "\n",
    "%load_ext autoreload\n",
    "%autoreload 2\n",
    "%matplotlib widget"
   ]
  },
  {
   "cell_type": "code",
   "execution_count": null,
   "metadata": {
    "tags": []
   },
   "outputs": [],
   "source": [
    "plt.close(\"all\")\n",
    "\n",
    "palette = sns.color_palette(cmaps.faculties)\n",
    "sns.set_theme(context=\"notebook\", style=\"ticks\", palette=palette)\n",
    "\n",
    "plt.rcParams[\"figure.figsize\"] = (10, 5)\n",
    "plt.rcParams[\"pdf.fonttype\"] = 42\n",
    "plt.rcParams[\"mathtext.default\"] = \"regular\"\n",
    "\n",
    "palette"
   ]
  },
  {
   "cell_type": "code",
   "execution_count": null,
   "metadata": {
    "tags": []
   },
   "outputs": [],
   "source": [
    "deploy_type = \"local\""
   ]
  },
  {
   "cell_type": "code",
   "execution_count": null,
   "metadata": {
    "tags": []
   },
   "outputs": [],
   "source": [
    "config_dict = json.load(Path(\"../../config.json\").open(encoding=\"utf-8\"))\n",
    "\n",
    "base_path = Path(config_dict[deploy_type][\"base_path\"])\n",
    "base_path"
   ]
  },
  {
   "cell_type": "code",
   "execution_count": null,
   "metadata": {
    "tags": []
   },
   "outputs": [],
   "source": [
    "quest_path = base_path.joinpath(\"questionnaires\")\n",
    "quest_path_in = quest_path.joinpath(\"merged\")\n",
    "quest_path_out = quest_path.joinpath(\"merged_total\")\n",
    "\n",
    "bp.utils.file_handling.mkdirs([quest_path_in, quest_path_out])"
   ]
  },
  {
   "cell_type": "code",
   "execution_count": null,
   "metadata": {
    "tags": []
   },
   "outputs": [],
   "source": [
    "code_mapping = pd.read_csv(base_path.joinpath(\"extras/code_to_number_mapping.csv\"))\n",
    "code_mapping = code_mapping.set_index(\"Code\")\n",
    "code_mapping.head()"
   ]
  },
  {
   "cell_type": "markdown",
   "metadata": {},
   "source": [
    "## Load Questionnaire Data and Map Code to VP-ID"
   ]
  },
  {
   "cell_type": "code",
   "execution_count": null,
   "metadata": {
    "tags": []
   },
   "outputs": [],
   "source": [
    "quest_data = pd.read_excel(quest_path_in.joinpath(\"questionnaire_data.xlsx\"))\n",
    "quest_data = quest_data.set_index(\"Code\")\n",
    "quest_data = quest_data.join(code_mapping).set_index(\"subject\")\n",
    "quest_data = quest_data.sort_index()\n",
    "quest_data.head()"
   ]
  },
  {
   "cell_type": "markdown",
   "metadata": {},
   "source": [
    "## Add Condition Order"
   ]
  },
  {
   "cell_type": "code",
   "execution_count": null,
   "metadata": {
    "tags": []
   },
   "outputs": [],
   "source": [
    "condition_order = pd.read_csv(base_path.joinpath(\"extras/condition_order.csv\"))\n",
    "condition_order = condition_order.set_index(\"subject\")[\"condition_order\"]\n",
    "condition_order.head()"
   ]
  },
  {
   "cell_type": "markdown",
   "metadata": {},
   "source": [
    "## Add PASA"
   ]
  },
  {
   "cell_type": "code",
   "execution_count": null,
   "metadata": {
    "tags": []
   },
   "outputs": [],
   "source": [
    "pasa_data = pd.read_excel(quest_path_in.joinpath(\"pasa.xlsx\"))\n",
    "pasa_data = pasa_data.set_index([\"subject\", \"condition\"])\n",
    "pasa_data = pasa_data.join(condition_order).set_index(\"condition_order\", append=True)\n",
    "pasa_data = pasa_data.assign(**{\"day\": pasa_data.index.map(\"{0[1]}_{0[2]}\".format)})\n",
    "pasa_data = pasa_data.replace(\n",
    "    {\"tsst_tsst_first\": \"T1\", \"ftsst_tsst_first\": \"T2\", \"ftsst_ftsst_first\": \"T1\", \"tsst_ftsst_first\": \"T2\"}\n",
    ")\n",
    "pasa_data = pasa_data.set_index(\"day\", append=True)\n",
    "pasa_data = pasa_data.droplevel([\"condition\", \"condition_order\"]).unstack(\"day\")\n",
    "pasa_data.columns = [\"_\".join(col) for col in pasa_data.columns]\n",
    "pasa_data.head()\n",
    "\n",
    "quest_data_out = quest_data.join(pasa_data)\n",
    "quest_data_out.head()"
   ]
  },
  {
   "cell_type": "markdown",
   "metadata": {},
   "source": [
    "## Add Condition Order"
   ]
  },
  {
   "cell_type": "code",
   "execution_count": null,
   "metadata": {
    "tags": []
   },
   "outputs": [],
   "source": [
    "quest_data_out.insert(0, \"condition_order\", condition_order)\n",
    "quest_data_out.head()"
   ]
  },
  {
   "cell_type": "markdown",
   "metadata": {},
   "source": [
    "## Add Handedness"
   ]
  },
  {
   "cell_type": "code",
   "execution_count": null,
   "metadata": {
    "tags": []
   },
   "outputs": [],
   "source": [
    "handedness = pd.read_excel(quest_path_in.joinpath(\"handedness.xlsx\"))\n",
    "handedness = handedness.set_index(\"subject\")[\"handedness\"]\n",
    "\n",
    "quest_data_out.insert(1, \"handedness\", handedness)\n",
    "quest_data_out.head()"
   ]
  },
  {
   "cell_type": "markdown",
   "metadata": {},
   "source": [
    "## Export"
   ]
  },
  {
   "cell_type": "code",
   "execution_count": null,
   "metadata": {
    "tags": []
   },
   "outputs": [],
   "source": [
    "quest_data_out.to_excel(quest_path_out.joinpath(\"questionnaire_data.xlsx\"))"
   ]
  }
 ],
 "metadata": {
  "kernelspec": {
   "display_name": "stresspose_analysis",
   "language": "python",
   "name": "stresspose_analysis"
  },
  "language_info": {
   "codemirror_mode": {
    "name": "ipython",
    "version": 3
   },
   "file_extension": ".py",
   "mimetype": "text/x-python",
   "name": "python",
   "nbconvert_exporter": "python",
   "pygments_lexer": "ipython3",
   "version": "3.9.13"
  }
 },
 "nbformat": 4,
 "nbformat_minor": 4
}
