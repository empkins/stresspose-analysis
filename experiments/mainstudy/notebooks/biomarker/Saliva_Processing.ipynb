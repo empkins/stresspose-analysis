{
 "cells": [
  {
   "cell_type": "markdown",
   "metadata": {},
   "source": [
    "# Saliva Processing"
   ]
  },
  {
   "cell_type": "code",
   "execution_count": null,
   "metadata": {
    "tags": []
   },
   "outputs": [],
   "source": [
    "import json\n",
    "from pathlib import Path\n",
    "\n",
    "import biopsykit as bp\n",
    "import matplotlib.pyplot as plt\n",
    "import pandas as pd\n",
    "import seaborn as sns\n",
    "from fau_colors import cmaps\n",
    "\n",
    "from stresspose_analysis.datasets.mainstudy import MainStudyDataset\n",
    "\n",
    "%load_ext autoreload\n",
    "%autoreload 2\n",
    "%matplotlib widget"
   ]
  },
  {
   "cell_type": "code",
   "execution_count": null,
   "metadata": {
    "tags": []
   },
   "outputs": [],
   "source": [
    "plt.close(\"all\")\n",
    "\n",
    "palette = sns.color_palette(cmaps.faculties)\n",
    "sns.set_theme(context=\"notebook\", style=\"ticks\", palette=palette)\n",
    "\n",
    "plt.rcParams[\"figure.figsize\"] = (10, 5)\n",
    "plt.rcParams[\"pdf.fonttype\"] = 42\n",
    "plt.rcParams[\"mathtext.default\"] = \"regular\"\n",
    "\n",
    "palette"
   ]
  },
  {
   "cell_type": "code",
   "execution_count": null,
   "metadata": {
    "tags": []
   },
   "outputs": [],
   "source": [
    "deploy_type = \"local\""
   ]
  },
  {
   "cell_type": "code",
   "execution_count": null,
   "metadata": {
    "tags": []
   },
   "outputs": [],
   "source": [
    "config_dict = json.load(Path(\"../../config.json\").open(encoding=\"utf-8\"))\n",
    "\n",
    "base_path = Path(config_dict[deploy_type][\"base_path\"])\n",
    "base_path"
   ]
  },
  {
   "cell_type": "code",
   "execution_count": null,
   "metadata": {
    "tags": []
   },
   "outputs": [],
   "source": [
    "path_out = base_path.joinpath(\"saliva/processed\")\n",
    "bp.utils.file_handling.mkdirs([path_out])"
   ]
  },
  {
   "cell_type": "code",
   "execution_count": null,
   "metadata": {
    "tags": []
   },
   "outputs": [],
   "source": [
    "dataset = MainStudyDataset(base_path)\n",
    "dataset"
   ]
  },
  {
   "cell_type": "markdown",
   "metadata": {},
   "source": [
    "## Cortisol"
   ]
  },
  {
   "cell_type": "markdown",
   "metadata": {},
   "source": [
    "### Samples"
   ]
  },
  {
   "cell_type": "code",
   "execution_count": null,
   "metadata": {
    "tags": []
   },
   "outputs": [],
   "source": [
    "cort_data = bp.io.saliva.load_saliva_plate(\n",
    "    base_path.joinpath(\"saliva/raw/cortisol_values.xlsx\"), saliva_type=\"cortisol\", regex_str=r\"(VP_\\d+) (T\\d)_(S\\d)\"\n",
    ")\n",
    "\n",
    "cort_data = cort_data.join(dataset.day_condition_map).reset_index()\n",
    "cort_data = cort_data.drop(columns=\"day\").set_index([\"subject\", \"condition\", \"sample\"])\n",
    "cort_data.head()"
   ]
  },
  {
   "cell_type": "code",
   "execution_count": null,
   "metadata": {
    "tags": []
   },
   "outputs": [],
   "source": [
    "cort_data.to_csv(path_out.joinpath(\"cortisol_samples.csv\"))"
   ]
  },
  {
   "cell_type": "markdown",
   "metadata": {},
   "source": [
    "### Features"
   ]
  },
  {
   "cell_type": "code",
   "execution_count": null,
   "metadata": {
    "tags": []
   },
   "outputs": [],
   "source": [
    "cort_auc = bp.saliva.auc(cort_data, remove_s0=True, sample_times=dataset.sample_times_saliva, saliva_type=\"cortisol\")"
   ]
  },
  {
   "cell_type": "code",
   "execution_count": null,
   "metadata": {
    "tags": []
   },
   "outputs": [],
   "source": [
    "cort_max_inc = bp.saliva.max_increase(cort_data, remove_s0=True, saliva_type=\"cortisol\")\n",
    "cort_max_inc_percent = bp.saliva.max_increase(cort_data, remove_s0=True, percent=True, saliva_type=\"cortisol\")"
   ]
  },
  {
   "cell_type": "code",
   "execution_count": null,
   "metadata": {
    "tags": []
   },
   "outputs": [],
   "source": [
    "cort_slope = bp.saliva.slope(\n",
    "    cort_data, sample_labels=[\"S1\", \"S4\"], sample_times=dataset.sample_times_saliva, saliva_type=\"cortisol\"\n",
    ")"
   ]
  },
  {
   "cell_type": "code",
   "execution_count": null,
   "metadata": {
    "tags": []
   },
   "outputs": [],
   "source": [
    "cort_features = pd.concat([cort_auc, cort_max_inc, cort_max_inc_percent, cort_slope], axis=1)\n",
    "cort_features = bp.saliva.utils.saliva_feature_wide_to_long(cort_features, saliva_type=\"cortisol\")\n",
    "cort_features.head()"
   ]
  },
  {
   "cell_type": "code",
   "execution_count": null,
   "metadata": {
    "tags": []
   },
   "outputs": [],
   "source": [
    "cort_features.to_csv(path_out.joinpath(\"cortisol_features.csv\"))"
   ]
  },
  {
   "cell_type": "markdown",
   "metadata": {},
   "source": [
    "## Amylase"
   ]
  },
  {
   "cell_type": "markdown",
   "metadata": {},
   "source": [
    "### Samples"
   ]
  },
  {
   "cell_type": "code",
   "execution_count": null,
   "metadata": {
    "tags": []
   },
   "outputs": [],
   "source": [
    "amy_data = bp.io.saliva.load_saliva_plate(\n",
    "    base_path.joinpath(\"saliva/raw/amylase_values.xlsx\"), saliva_type=\"amylase\", regex_str=r\"(VP_\\d+) (T\\d)_(S\\d)\"\n",
    ")\n",
    "\n",
    "amy_data = amy_data.join(dataset.day_condition_map).reset_index()\n",
    "amy_data = amy_data.drop(columns=\"day\").set_index([\"subject\", \"condition\", \"sample\"])\n",
    "amy_data.head()"
   ]
  },
  {
   "cell_type": "code",
   "execution_count": null,
   "metadata": {
    "tags": []
   },
   "outputs": [],
   "source": [
    "amy_data.to_csv(path_out.joinpath(\"amylase_samples.csv\"))"
   ]
  },
  {
   "cell_type": "markdown",
   "metadata": {},
   "source": [
    "### Features"
   ]
  },
  {
   "cell_type": "code",
   "execution_count": null,
   "metadata": {
    "tags": []
   },
   "outputs": [],
   "source": [
    "amy_auc = bp.saliva.auc(amy_data, remove_s0=True, sample_times=dataset.sample_times_saliva, saliva_type=\"amylase\")"
   ]
  },
  {
   "cell_type": "code",
   "execution_count": null,
   "metadata": {
    "tags": []
   },
   "outputs": [],
   "source": [
    "amy_max_inc = bp.saliva.max_increase(amy_data, remove_s0=True, saliva_type=\"amylase\")\n",
    "amy_max_inc_percent = bp.saliva.max_increase(amy_data, remove_s0=True, percent=True, saliva_type=\"amylase\")"
   ]
  },
  {
   "cell_type": "code",
   "execution_count": null,
   "metadata": {
    "tags": []
   },
   "outputs": [],
   "source": [
    "amy_slope = bp.saliva.slope(\n",
    "    amy_data, sample_labels=[\"S1\", \"S4\"], sample_times=dataset.sample_times_saliva, saliva_type=\"amylase\"\n",
    ")"
   ]
  },
  {
   "cell_type": "code",
   "execution_count": null,
   "metadata": {
    "tags": []
   },
   "outputs": [],
   "source": [
    "amy_features = pd.concat([amy_auc, amy_max_inc, amy_max_inc_percent, amy_slope], axis=1)\n",
    "amy_features = bp.saliva.utils.saliva_feature_wide_to_long(amy_features, saliva_type=\"amylase\")\n",
    "amy_features.head()"
   ]
  },
  {
   "cell_type": "code",
   "execution_count": null,
   "metadata": {
    "tags": []
   },
   "outputs": [],
   "source": [
    "amy_features.to_csv(path_out.joinpath(\"amylase_features.csv\"))"
   ]
  },
  {
   "cell_type": "markdown",
   "metadata": {},
   "source": [
    "## Progesterone"
   ]
  },
  {
   "cell_type": "code",
   "execution_count": null,
   "metadata": {
    "tags": []
   },
   "outputs": [],
   "source": [
    "prog_estr_data = pd.read_excel(\n",
    "    base_path.joinpath(\"saliva/raw/estradiol_progesterone_values.xlsx\"), sheet_name=[\"progesterone\", \"estradiol\"]\n",
    ")\n",
    "\n",
    "prog_estr_data = {key: value[[\"sample ID\", key]].dropna() for key, value in prog_estr_data.items()}\n",
    "prog_estr_data = {\n",
    "    key: data.assign(**{\"subject\": prog_estr_data[key][\"sample ID\"].astype(int).apply(lambda s: f\"VP_{s:02d}\")})\n",
    "    for key, data in prog_estr_data.items()\n",
    "}\n",
    "prog_estr_data = {key: data.drop(columns=\"sample ID\").set_index(\"subject\") for key, data in prog_estr_data.items()}\n",
    "\n",
    "prog_estr_data = pd.concat({key: val[key] for key, val in prog_estr_data.items()}, axis=1)\n",
    "prog_estr_data.head()"
   ]
  },
  {
   "cell_type": "code",
   "execution_count": null,
   "metadata": {
    "tags": []
   },
   "outputs": [],
   "source": [
    "prog_estr_data.to_csv(path_out.joinpath(\"progesterone_estradiol_samples.csv\"))"
   ]
  },
  {
   "cell_type": "code",
   "execution_count": null,
   "metadata": {},
   "outputs": [],
   "source": []
  }
 ],
 "metadata": {
  "kernelspec": {
   "display_name": "stresspose_analysis",
   "language": "python",
   "name": "stresspose_analysis"
  },
  "language_info": {
   "codemirror_mode": {
    "name": "ipython",
    "version": 3
   },
   "file_extension": ".py",
   "mimetype": "text/x-python",
   "name": "python",
   "nbconvert_exporter": "python",
   "pygments_lexer": "ipython3",
   "version": "3.9.13"
  }
 },
 "nbformat": 4,
 "nbformat_minor": 4
}
