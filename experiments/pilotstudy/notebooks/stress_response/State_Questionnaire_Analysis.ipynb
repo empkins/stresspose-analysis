{
 "cells": [
  {
   "cell_type": "markdown",
   "metadata": {},
   "source": [
    "# State Questionnaire Analysis"
   ]
  },
  {
   "cell_type": "markdown",
   "metadata": {},
   "source": [
    "## Imports and Global Helper Functions"
   ]
  },
  {
   "cell_type": "code",
   "execution_count": null,
   "metadata": {
    "tags": []
   },
   "outputs": [],
   "source": [
    "import warnings\n",
    "import json\n",
    "from pathlib import Path\n",
    "\n",
    "import pandas as pd\n",
    "import pingouin as pg\n",
    "\n",
    "import matplotlib.pyplot as plt\n",
    "import seaborn as sns\n",
    "\n",
    "from fau_colors import cmaps, colors_dark, register_fausans_font\n",
    "import biopsykit as bp\n",
    "\n",
    "from stresspose_analysis.datasets.pilotstudy import PilotStudyDataset\n",
    "\n",
    "%load_ext autoreload\n",
    "%autoreload 2\n",
    "%matplotlib widget"
   ]
  },
  {
   "cell_type": "code",
   "execution_count": null,
   "metadata": {
    "tags": []
   },
   "outputs": [],
   "source": [
    "register_fausans_font()\n",
    "\n",
    "plt.close(\"all\")\n",
    "\n",
    "palette = sns.color_palette(cmaps.faculties)\n",
    "sns.set_theme(context=\"notebook\", style=\"ticks\", palette=palette)\n",
    "\n",
    "plt.rcParams[\"figure.figsize\"] = (8, 4)\n",
    "plt.rcParams[\"pdf.fonttype\"] = 42\n",
    "plt.rcParams[\"mathtext.default\"] = \"regular\"\n",
    "plt.rcParams[\"font.family\"] = \"sans-serif\"\n",
    "plt.rcParams[\"font.sans-serif\"] = \"FAUSans Office\"\n",
    "\n",
    "palette"
   ]
  },
  {
   "cell_type": "markdown",
   "metadata": {},
   "source": [
    "## Setup Paths"
   ]
  },
  {
   "cell_type": "code",
   "execution_count": null,
   "metadata": {
    "tags": []
   },
   "outputs": [],
   "source": [
    "deploy_type = \"local\""
   ]
  },
  {
   "cell_type": "code",
   "execution_count": null,
   "metadata": {
    "tags": []
   },
   "outputs": [],
   "source": [
    "root_path = Path(\"../..\").resolve()\n",
    "\n",
    "config_dict = json.load(root_path.joinpath(\"config.json\").open(encoding=\"utf-8\"))\n",
    "base_path = Path(config_dict[deploy_type][\"base_path\"])\n",
    "dataset = PilotStudyDataset(base_path)"
   ]
  },
  {
   "cell_type": "code",
   "execution_count": null,
   "metadata": {
    "tags": []
   },
   "outputs": [],
   "source": [
    "output_path = root_path.joinpath(\"results\")\n",
    "img_path = output_path.joinpath(\"plots\")\n",
    "stats_path = output_path.joinpath(\"statistics\")\n",
    "\n",
    "bp.utils.file_handling.mkdirs([img_path, stats_path])"
   ]
  },
  {
   "cell_type": "code",
   "execution_count": null,
   "metadata": {
    "tags": []
   },
   "outputs": [],
   "source": [
    "# dict for renaming condition names for use in plots\n",
    "condition_mapping = {\"tsst\": \"TSST\", \"ftsst\": \"f-TSST\"}"
   ]
  },
  {
   "cell_type": "code",
   "execution_count": null,
   "metadata": {
    "tags": []
   },
   "outputs": [],
   "source": [
    "quest_data = dataset.questionnaire\n",
    "quest_data = quest_data.join(dataset.condition_first).join(dataset.cortisol_non_responder)\n",
    "quest_data = quest_data.set_index([\"condition_first\", \"non_responder\"], append=True)\n",
    "quest_data.head()"
   ]
  },
  {
   "cell_type": "markdown",
   "metadata": {
    "tags": []
   },
   "source": [
    "## PANAS"
   ]
  },
  {
   "cell_type": "markdown",
   "metadata": {},
   "source": [
    "Get differences in negative affect change ($\\text{PANAS}_{post} - \\text{PANAS}_{pre}$) between conditions (TSST vs. f-TSST)"
   ]
  },
  {
   "cell_type": "code",
   "execution_count": null,
   "metadata": {
    "tags": []
   },
   "outputs": [],
   "source": [
    "panas_time = bp.questionnaires.utils.wide_to_long(\n",
    "    quest_data.filter(like=\"PANAS\"), quest_name=\"PANAS\", levels=[\"subscale\", \"condition\", \"time\"]\n",
    ")\n",
    "panas_time = panas_time.rename(condition_mapping, level=\"condition\").xs(\"NegativeAffect\", level=\"subscale\")\n",
    "panas_time.head()"
   ]
  },
  {
   "cell_type": "code",
   "execution_count": null,
   "metadata": {
    "tags": []
   },
   "outputs": [],
   "source": [
    "panas_data = dataset.panas_diff\n",
    "panas_data = panas_data.rename(condition_mapping, level=\"condition\").xs(\"NegativeAffect\", level=\"subscale\")\n",
    "panas_data.head()"
   ]
  },
  {
   "cell_type": "markdown",
   "metadata": {},
   "source": [
    "### PANAS Response (pre-post)"
   ]
  },
  {
   "cell_type": "code",
   "execution_count": null,
   "metadata": {
    "tags": []
   },
   "outputs": [],
   "source": [
    "fig, axs = plt.subplots(ncols=2, sharey=True)\n",
    "axs = iter(axs)\n",
    "\n",
    "for key, df in panas_time.groupby(\"condition\"):\n",
    "    ax = next(axs)\n",
    "    pg.plot_paired(data=df.reset_index(), dv=\"PANAS\", within=\"time\", subject=\"subject\", order=[\"pre\", \"post\"], ax=ax)\n",
    "    ax.set_title(key)\n",
    "    ax.set_ylabel(\"PANAS Negative Affect Scale [AU]\")\n",
    "\n",
    "fig.tight_layout()"
   ]
  },
  {
   "cell_type": "code",
   "execution_count": null,
   "metadata": {
    "tags": []
   },
   "outputs": [],
   "source": [
    "steps = [(\"prep\", \"normality\"), (\"test\", \"pairwise_tests\")]\n",
    "params = {\n",
    "    \"dv\": \"PANAS\",\n",
    "    \"within\": \"time\",\n",
    "    \"subject\": \"subject\",\n",
    "    \"parametric\": False,\n",
    "    \"groupby\": \"condition\",\n",
    "    \"multicomp\": {\"method\": \"bonf\", \"levels\": True},\n",
    "}\n",
    "\n",
    "pipeline_panas_time = bp.stats.StatsPipeline(steps, params)\n",
    "with warnings.catch_warnings():\n",
    "    warnings.simplefilter(\"ignore\", category=UserWarning)\n",
    "    pipeline_panas_time.apply(panas_time)\n",
    "pipeline_panas_time.display_results()\n",
    "pipeline_panas_time.export_statistics(stats_path.joinpath(\"stats_panas_pre_post.xlsx\"))"
   ]
  },
  {
   "cell_type": "markdown",
   "metadata": {},
   "source": [
    "### PANAS Difference (f-)TSST"
   ]
  },
  {
   "cell_type": "code",
   "execution_count": null,
   "metadata": {
    "tags": []
   },
   "outputs": [],
   "source": [
    "steps = [(\"prep\", \"normality\"), (\"test\", \"pairwise_tests\")]\n",
    "params = {\n",
    "    \"dv\": \"PANAS\",\n",
    "    \"within\": \"condition\",\n",
    "    \"subject\": \"subject\",\n",
    "    \"parametric\": False,\n",
    "    \"multicomp\": {\"method\": \"bonf\", \"levels\": True},\n",
    "}\n",
    "\n",
    "pipeline_panas = bp.stats.StatsPipeline(steps, params)\n",
    "with warnings.catch_warnings():\n",
    "    warnings.simplefilter(\"ignore\", category=UserWarning)\n",
    "    pipeline_panas.apply(panas_data)\n",
    "pipeline_panas.display_results()\n",
    "pipeline_panas.export_statistics(stats_path.joinpath(\"stats_panas_response.xlsx\"))"
   ]
  },
  {
   "cell_type": "markdown",
   "metadata": {},
   "source": [
    "### Plots"
   ]
  },
  {
   "cell_type": "code",
   "execution_count": null,
   "metadata": {
    "tags": []
   },
   "outputs": [],
   "source": [
    "fig, ax = plt.subplots(figsize=(6, 4))\n",
    "\n",
    "box_pairs, pvalues = pipeline_panas.sig_brackets(\"test\", \"within\", plot_type=\"single\", x=\"condition\")\n",
    "\n",
    "bp.plotting.feature_boxplot(\n",
    "    panas_data,\n",
    "    x=\"condition\",\n",
    "    y=\"PANAS\",\n",
    "    order=[\"f-TSST\", \"TSST\"],\n",
    "    legend_loc=\"upper center\",\n",
    "    legend_orientation=\"horizontal\",\n",
    "    stats_kwargs={\"box_pairs\": box_pairs, \"pvalues\": pvalues, \"verbose\": 0},\n",
    "    palette=cmaps.faculties_light,\n",
    "    ax=ax,\n",
    ")\n",
    "ax.axhline(y=0, color=colors_dark.fau, ls=\"--\", lw=2, zorder=-1)\n",
    "\n",
    "ax.set_xlabel(\"Condition\")\n",
    "ax.set_ylabel(\"PANAS Negative Affect Change [AU]\")\n",
    "fig.tight_layout()"
   ]
  },
  {
   "cell_type": "markdown",
   "metadata": {
    "tags": []
   },
   "source": [
    "## STADI State Anxiety"
   ]
  },
  {
   "cell_type": "code",
   "execution_count": null,
   "metadata": {
    "tags": []
   },
   "outputs": [],
   "source": [
    "stadi_time = bp.questionnaires.utils.wide_to_long(\n",
    "    quest_data.filter(like=\"STADI_State\"), quest_name=\"STADI_State\", levels=[\"subscale\", \"condition\", \"time\"]\n",
    ")\n",
    "stadi_time = stadi_time.rename(condition_mapping, level=\"condition\").xs(\"Anxiety\", level=\"subscale\")\n",
    "stadi_time.head()"
   ]
  },
  {
   "cell_type": "code",
   "execution_count": null,
   "metadata": {
    "tags": []
   },
   "outputs": [],
   "source": [
    "stadi_data = dataset.stadi_state_diff\n",
    "stadi_data = stadi_data.rename(condition_mapping, level=\"condition\")\n",
    "stadi_data = stadi_data.xs(\"Anxiety\", level=\"subscale\")\n",
    "\n",
    "stadi_data.head()"
   ]
  },
  {
   "cell_type": "markdown",
   "metadata": {},
   "source": [
    "### STADI Response (pre-post)"
   ]
  },
  {
   "cell_type": "code",
   "execution_count": null,
   "metadata": {
    "tags": []
   },
   "outputs": [],
   "source": [
    "fig, axs = plt.subplots(ncols=2, sharey=True)\n",
    "axs = iter(axs)\n",
    "\n",
    "for key, df in stadi_time.groupby(\"condition\"):\n",
    "    ax = next(axs)\n",
    "    pg.plot_paired(\n",
    "        data=df.reset_index(), dv=\"STADI_State\", within=\"time\", subject=\"subject\", order=[\"pre\", \"post\"], ax=ax\n",
    "    )\n",
    "    ax.set_title(key)\n",
    "    ax.set_ylabel(\"STADI Anxiety Scale [AU]\")\n",
    "\n",
    "fig.tight_layout()"
   ]
  },
  {
   "cell_type": "code",
   "execution_count": null,
   "metadata": {
    "tags": []
   },
   "outputs": [],
   "source": [
    "steps = [(\"prep\", \"normality\"), (\"test\", \"pairwise_tests\")]\n",
    "params = {\n",
    "    \"dv\": \"STADI_State\",\n",
    "    \"within\": \"time\",\n",
    "    \"subject\": \"subject\",\n",
    "    \"parametric\": False,\n",
    "    \"groupby\": \"condition\",\n",
    "    \"multicomp\": {\"method\": \"bonf\", \"levels\": True},\n",
    "}\n",
    "\n",
    "pipeline_stadi_time = bp.stats.StatsPipeline(steps, params)\n",
    "with warnings.catch_warnings():\n",
    "    warnings.simplefilter(\"ignore\", category=UserWarning)\n",
    "    pipeline_stadi_time.apply(stadi_time)\n",
    "pipeline_stadi_time.display_results()\n",
    "pipeline_stadi_time.export_statistics(stats_path.joinpath(\"stats_stadi_pre_post.xlsx\"))"
   ]
  },
  {
   "cell_type": "markdown",
   "metadata": {},
   "source": [
    "### STADI Difference (f-)TSST"
   ]
  },
  {
   "cell_type": "code",
   "execution_count": null,
   "metadata": {
    "tags": []
   },
   "outputs": [],
   "source": [
    "steps = [(\"prep\", \"normality\"), (\"test\", \"pairwise_tests\")]\n",
    "params = {\"dv\": \"STADI_State\", \"within\": \"condition\", \"subject\": \"subject\", \"parametric\": False}\n",
    "\n",
    "pipeline_stadi = bp.stats.StatsPipeline(steps, params)\n",
    "pipeline_stadi.apply(stadi_data)\n",
    "pipeline_stadi.display_results()\n",
    "pipeline_stadi.export_statistics(stats_path.joinpath(\"stats_stadi_response.xlsx\"))"
   ]
  },
  {
   "cell_type": "markdown",
   "metadata": {},
   "source": [
    "### Plots"
   ]
  },
  {
   "cell_type": "code",
   "execution_count": null,
   "metadata": {
    "tags": []
   },
   "outputs": [],
   "source": [
    "fig, ax = plt.subplots(figsize=(6, 4))\n",
    "\n",
    "box_pairs, pvalues = pipeline_stadi.sig_brackets(\"test\", \"within\", plot_type=\"single\")\n",
    "\n",
    "bp.plotting.feature_boxplot(\n",
    "    stadi_data,\n",
    "    x=\"condition\",\n",
    "    y=\"STADI_State\",\n",
    "    legend_loc=\"upper center\",\n",
    "    legend_orientation=\"horizontal\",\n",
    "    stats_kwargs={\"box_pairs\": box_pairs, \"pvalues\": pvalues, \"verbose\": 0},\n",
    "    palette=cmaps.faculties_light,\n",
    "    ax=ax,\n",
    ")\n",
    "\n",
    "ax.axhline(y=0, color=colors_dark.fau, ls=\"--\", lw=2, zorder=-1)\n",
    "ax.set_xlabel(\"Condition\")\n",
    "ax.set_ylabel(\"State Anxiety Change [AU]\")\n",
    "fig.tight_layout()"
   ]
  },
  {
   "cell_type": "markdown",
   "metadata": {},
   "source": [
    "## Multi-Plot"
   ]
  },
  {
   "cell_type": "code",
   "execution_count": null,
   "metadata": {
    "tags": []
   },
   "outputs": [],
   "source": [
    "fig, axs = plt.subplots(figsize=(8, 4), ncols=2)\n",
    "\n",
    "box_pairs, pvalues = pipeline_panas.sig_brackets(\"test\", \"within\", plot_type=\"single\")\n",
    "\n",
    "bp.plotting.feature_boxplot(\n",
    "    panas_data,\n",
    "    x=\"condition\",\n",
    "    y=\"PANAS\",\n",
    "    legend_loc=\"upper center\",\n",
    "    legend_orientation=\"horizontal\",\n",
    "    stats_kwargs={\"box_pairs\": box_pairs, \"pvalues\": pvalues, \"verbose\": 0},\n",
    "    palette=cmaps.faculties_light,\n",
    "    ax=axs[0],\n",
    ")\n",
    "\n",
    "box_pairs, pvalues = pipeline_stadi.sig_brackets(\"test\", \"within\", plot_type=\"single\")\n",
    "\n",
    "bp.plotting.feature_boxplot(\n",
    "    stadi_data,\n",
    "    x=\"condition\",\n",
    "    y=\"STADI_State\",\n",
    "    legend_loc=\"upper center\",\n",
    "    legend_orientation=\"horizontal\",\n",
    "    stats_kwargs={\"box_pairs\": box_pairs, \"pvalues\": pvalues, \"verbose\": 0},\n",
    "    palette=cmaps.faculties_light,\n",
    "    ax=axs[1],\n",
    ")\n",
    "\n",
    "for ax, title, quest in zip(axs, list(\"ab\"), [\"PANAS\", \"STADI\"]):\n",
    "    ax.axhline(y=0, color=colors_dark.fau, ls=\"--\", lw=2, zorder=-1)\n",
    "    ax.set_xlabel(\"Condition\")\n",
    "    ax.set_title(f\"({title}) {quest}\")\n",
    "\n",
    "axs[0].set_ylabel(\"Negative Affect Change [AU]\")\n",
    "axs[1].set_ylabel(\"State Anxiety Change [AU]\")\n",
    "fig.tight_layout(w_pad=1.0)\n",
    "\n",
    "fig.savefig(img_path.joinpath(\"img_selfreport_response_multiplot.pdf\"), transparent=True)"
   ]
  },
  {
   "cell_type": "markdown",
   "metadata": {},
   "source": [
    "## TeX Export"
   ]
  },
  {
   "cell_type": "code",
   "execution_count": null,
   "metadata": {
    "tags": []
   },
   "outputs": [],
   "source": [
    "export_dict = {\n",
    "    \"Negative Affect\": pipeline_panas_time.results[\"pairwise_tests\"],\n",
    "    \"Anxiety\": pipeline_stadi_time.results[\"pairwise_tests\"],\n",
    "}\n",
    "stats_results = pd.concat(export_dict, names=[\"dimension\"])\n",
    "stats_results"
   ]
  },
  {
   "cell_type": "code",
   "execution_count": null,
   "metadata": {
    "tags": []
   },
   "outputs": [],
   "source": [
    "print(\n",
    "    pipeline_panas_time.results_to_latex_table(\n",
    "        \"pairwise_tests\",\n",
    "        data=stats_results,\n",
    "        column_format=\"ll|S[table-format=2.1]SS\",\n",
    "        index_kws={\"index_level_names_tex\": [\"Dimension\", \"Condition\"]},\n",
    "    )\n",
    ")"
   ]
  },
  {
   "cell_type": "code",
   "execution_count": null,
   "metadata": {
    "tags": []
   },
   "outputs": [],
   "source": [
    "pipeline_stadi_time.stats_to_latex(\"pairwise_tests\")"
   ]
  },
  {
   "cell_type": "code",
   "execution_count": null,
   "metadata": {
    "tags": []
   },
   "outputs": [],
   "source": [
    "pipeline_stadi.stats_to_latex(\"pairwise_tests\")"
   ]
  },
  {
   "cell_type": "code",
   "execution_count": null,
   "metadata": {
    "tags": []
   },
   "outputs": [],
   "source": [
    "pipeline_panas_time.stats_to_latex(\"pairwise_tests\")"
   ]
  },
  {
   "cell_type": "code",
   "execution_count": null,
   "metadata": {
    "tags": []
   },
   "outputs": [],
   "source": [
    "pipeline_panas.stats_to_latex(\"pairwise_tests\")"
   ]
  },
  {
   "cell_type": "code",
   "execution_count": null,
   "metadata": {},
   "outputs": [],
   "source": []
  }
 ],
 "metadata": {
  "kernelspec": {
   "display_name": "stresspose_analysis",
   "language": "python",
   "name": "stresspose_analysis"
  },
  "language_info": {
   "codemirror_mode": {
    "name": "ipython",
    "version": 3
   },
   "file_extension": ".py",
   "mimetype": "text/x-python",
   "name": "python",
   "nbconvert_exporter": "python",
   "pygments_lexer": "ipython3",
   "version": "3.9.13"
  }
 },
 "nbformat": 4,
 "nbformat_minor": 4
}
