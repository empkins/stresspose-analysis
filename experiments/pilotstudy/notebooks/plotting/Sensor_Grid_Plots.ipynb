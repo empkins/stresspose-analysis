{
 "cells": [
  {
   "cell_type": "markdown",
   "metadata": {},
   "source": [
    "# Sensor Grid Plots"
   ]
  },
  {
   "cell_type": "markdown",
   "metadata": {},
   "source": [
    "## Imports and Global Helper Functions"
   ]
  },
  {
   "cell_type": "code",
   "execution_count": null,
   "metadata": {
    "tags": []
   },
   "outputs": [],
   "source": [
    "import json\n",
    "\n",
    "from pathlib import Path\n",
    "\n",
    "import matplotlib.pyplot as plt\n",
    "import seaborn as sns\n",
    "\n",
    "from fau_colors import cmaps, register_fausans_font\n",
    "import biopsykit as bp\n",
    "\n",
    "from stresspose_analysis.datasets.pilotstudy import PilotStudyDataset\n",
    "\n",
    "%load_ext autoreload\n",
    "%autoreload 2\n",
    "%matplotlib widget"
   ]
  },
  {
   "cell_type": "code",
   "execution_count": null,
   "metadata": {
    "tags": []
   },
   "outputs": [],
   "source": [
    "register_fausans_font()\n",
    "plt.close(\"all\")\n",
    "\n",
    "palette = sns.color_palette(cmaps.faculties)\n",
    "sns.set_theme(context=\"notebook\", style=\"ticks\", palette=palette)\n",
    "\n",
    "plt.rcParams[\"figure.figsize\"] = (10, 5)\n",
    "plt.rcParams[\"pdf.fonttype\"] = 42\n",
    "plt.rcParams[\"mathtext.default\"] = \"regular\"\n",
    "plt.rcParams[\"font.family\"] = \"sans-serif\"\n",
    "plt.rcParams[\"font.sans-serif\"] = \"FAUSans Office\"\n",
    "\n",
    "palette"
   ]
  },
  {
   "cell_type": "markdown",
   "metadata": {},
   "source": [
    "## Path Setup"
   ]
  },
  {
   "cell_type": "code",
   "execution_count": null,
   "metadata": {
    "tags": []
   },
   "outputs": [],
   "source": [
    "deploy_type = \"local\""
   ]
  },
  {
   "cell_type": "code",
   "execution_count": null,
   "metadata": {
    "tags": []
   },
   "outputs": [],
   "source": [
    "config_dict = json.load(Path(\"../../config.json\").open(encoding=\"utf-8\"))\n",
    "\n",
    "base_path = Path(config_dict[deploy_type][\"base_path\"])\n",
    "base_path"
   ]
  },
  {
   "cell_type": "code",
   "execution_count": null,
   "metadata": {
    "tags": []
   },
   "outputs": [],
   "source": [
    "output_path = Path(\"../../results/plots/sensor_grid_plot\")\n",
    "bp.utils.file_handling.mkdirs(output_path)"
   ]
  },
  {
   "cell_type": "code",
   "execution_count": null,
   "metadata": {
    "tags": []
   },
   "outputs": [],
   "source": [
    "dataset = PilotStudyDataset(base_path)"
   ]
  },
  {
   "cell_type": "markdown",
   "metadata": {},
   "source": [
    "## Get Data"
   ]
  },
  {
   "cell_type": "code",
   "execution_count": null,
   "metadata": {
    "tags": []
   },
   "outputs": [],
   "source": [
    "mocap_data = dataset.get_subset(subject=\"VP_04\", condition=\"tsst\").mocap_data"
   ]
  },
  {
   "cell_type": "markdown",
   "metadata": {},
   "source": [
    "## Sensor Grid Plot – Body Parts"
   ]
  },
  {
   "cell_type": "code",
   "execution_count": null,
   "metadata": {
    "tags": []
   },
   "outputs": [],
   "source": [
    "body_parts = [\n",
    "    \"Head\",\n",
    "    \"Hips\",\n",
    "    \"LeftArm\",\n",
    "    \"LeftFoot\",\n",
    "    \"LeftForeArm\",\n",
    "    \"LeftHand\",\n",
    "    \"LeftLeg\",\n",
    "    \"LeftShoulder\",\n",
    "    \"LeftUpLeg\",\n",
    "    \"Neck\",\n",
    "    \"RightArm\",\n",
    "    \"RightFoot\",\n",
    "    \"RightForeArm\",\n",
    "    \"RightHand\",\n",
    "    \"RightLeg\",\n",
    "    \"RightShoulder\",\n",
    "    \"RightUpLeg\",\n",
    "    \"Spine\",\n",
    "    \"Spine1\",\n",
    "    \"Spine2\",\n",
    "]\n",
    "\n",
    "data_plot = mocap_data.xs(\"calc\", level=\"data_format\", axis=1)\n",
    "data_plot = data_plot.reindex(body_parts, level=\"body_part\", axis=1)\n",
    "data_plot = data_plot.xs(\"ang_vel\", level=\"channel\", axis=1)\n",
    "data_plot = data_plot.loc[0:5]\n",
    "data_plot = data_plot.rolling(5).mean().dropna()\n",
    "data_plot.head()"
   ]
  },
  {
   "cell_type": "code",
   "execution_count": null,
   "metadata": {
    "tags": []
   },
   "outputs": [],
   "source": [
    "ncols = 5\n",
    "nrows = 4\n",
    "\n",
    "fig, axs = plt.subplots(figsize=(ncols, nrows), ncols=ncols, nrows=nrows, sharex=True)\n",
    "axs = axs.flatten()\n",
    "\n",
    "for (key, df), ax in zip(data_plot.groupby(\"body_part\", axis=1), axs):\n",
    "    df.plot(ax=ax, legend=False)\n",
    "    ax.set_title(key, fontsize=\"smaller\")\n",
    "    ax.get_yaxis().set_visible(False)\n",
    "    ax.get_xaxis().set_visible(False)\n",
    "    ax.set_xlabel(None)\n",
    "\n",
    "fig.tight_layout(h_pad=0.5, w_pad=0.5, pad=0.1)\n",
    "fig.savefig(output_path.joinpath(\"img_sensor_grid_body_parts.pdf\"), transparent=True)"
   ]
  },
  {
   "cell_type": "markdown",
   "metadata": {},
   "source": [
    "## Sensor Grid Plot – Channels"
   ]
  },
  {
   "cell_type": "code",
   "execution_count": null,
   "metadata": {
    "tags": []
   },
   "outputs": [],
   "source": [
    "data_plot = mocap_data.xs(\"calc\", level=\"data_format\", axis=1)\n",
    "data_plot = data_plot.xs(\"Head\", level=\"body_part\", axis=1)\n",
    "data_plot = data_plot.rename(\n",
    "    {\"pos\": \"Position\", \"vel\": \"Velocity\", \"quat\": \"Quaternion\", \"acc\": \"Acceleration\", \"ang_vel\": \"Angular Vel.\"},\n",
    "    axis=1,\n",
    "    level=\"channel\",\n",
    ")\n",
    "data_plot = data_plot.loc[0:5]\n",
    "data_plot = data_plot.rolling(5).mean().dropna()\n",
    "data_plot.head()"
   ]
  },
  {
   "cell_type": "markdown",
   "metadata": {},
   "source": [
    "### Horizontal Plot"
   ]
  },
  {
   "cell_type": "code",
   "execution_count": null,
   "metadata": {
    "tags": []
   },
   "outputs": [],
   "source": [
    "ncols = 5\n",
    "nrows = 1\n",
    "\n",
    "fig, axs = plt.subplots(figsize=(ncols, nrows), ncols=ncols, nrows=nrows, sharex=True)\n",
    "axs = axs.flatten()\n",
    "\n",
    "for (key, df), ax in zip(data_plot.groupby(\"channel\", axis=1), axs):\n",
    "    df.plot(ax=ax, legend=False)\n",
    "    ax.set_title(key, fontsize=\"smaller\")\n",
    "    ax.get_yaxis().set_visible(False)\n",
    "    ax.get_xaxis().set_visible(False)\n",
    "    ax.set_xlabel(None)\n",
    "\n",
    "fig.tight_layout(h_pad=0.5, w_pad=0.5, pad=0.1)\n",
    "fig.savefig(output_path.joinpath(\"img_sensor_grid_channels_vert.pdf\"), transparent=True)"
   ]
  },
  {
   "cell_type": "markdown",
   "metadata": {},
   "source": [
    "### Vertical Plot"
   ]
  },
  {
   "cell_type": "code",
   "execution_count": null,
   "metadata": {
    "tags": []
   },
   "outputs": [],
   "source": [
    "ncols = 1\n",
    "nrows = 5\n",
    "\n",
    "fig, axs = plt.subplots(figsize=(ncols, nrows), ncols=ncols, nrows=nrows, sharex=True)\n",
    "axs = axs.flatten()\n",
    "\n",
    "for (key, df), ax in zip(data_plot.groupby(\"channel\", axis=1), axs):\n",
    "    df.plot(ax=ax, legend=False)\n",
    "    ax.set_title(key, fontsize=\"smaller\")\n",
    "    ax.get_yaxis().set_visible(False)\n",
    "    ax.get_xaxis().set_visible(False)\n",
    "    ax.set_xlabel(None)\n",
    "\n",
    "fig.tight_layout(h_pad=0.5, w_pad=0.5, pad=0.1)\n",
    "fig.savefig(output_path.joinpath(\"img_sensor_grid_channels_hor.pdf\"), transparent=True)"
   ]
  },
  {
   "cell_type": "code",
   "execution_count": null,
   "metadata": {},
   "outputs": [],
   "source": []
  },
  {
   "cell_type": "code",
   "execution_count": null,
   "metadata": {},
   "outputs": [],
   "source": []
  }
 ],
 "metadata": {
  "kernelspec": {
   "display_name": "stresspose_analysis",
   "language": "python",
   "name": "stresspose_analysis"
  },
  "language_info": {
   "codemirror_mode": {
    "name": "ipython",
    "version": 3
   },
   "file_extension": ".py",
   "mimetype": "text/x-python",
   "name": "python",
   "nbconvert_exporter": "python",
   "pygments_lexer": "ipython3",
   "version": "3.9.13"
  }
 },
 "nbformat": 4,
 "nbformat_minor": 4
}
