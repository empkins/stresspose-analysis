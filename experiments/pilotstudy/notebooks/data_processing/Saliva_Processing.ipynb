{
 "cells": [
  {
   "cell_type": "markdown",
   "metadata": {},
   "source": [
    "# Saliva Processing"
   ]
  },
  {
   "cell_type": "markdown",
   "metadata": {},
   "source": [
    "This notebook processes saliva data from \"raw\" format, as coming from the laboratory, into a more \"machine-friendly\" format."
   ]
  },
  {
   "cell_type": "code",
   "execution_count": null,
   "metadata": {
    "tags": []
   },
   "outputs": [],
   "source": [
    "import json\n",
    "from pathlib import Path\n",
    "\n",
    "import pandas as pd\n",
    "\n",
    "import biopsykit as bp\n",
    "\n",
    "from fau_colors import cmaps\n",
    "import matplotlib.pyplot as plt\n",
    "import seaborn as sns\n",
    "\n",
    "%load_ext autoreload\n",
    "%autoreload 2\n",
    "%matplotlib widget"
   ]
  },
  {
   "cell_type": "code",
   "execution_count": null,
   "metadata": {
    "tags": []
   },
   "outputs": [],
   "source": [
    "plt.close(\"all\")\n",
    "\n",
    "palette = sns.color_palette(cmaps.faculties)\n",
    "sns.set_theme(context=\"notebook\", style=\"ticks\", palette=palette)\n",
    "\n",
    "plt.rcParams[\"figure.figsize\"] = (8, 4)\n",
    "plt.rcParams[\"pdf.fonttype\"] = 42\n",
    "plt.rcParams[\"mathtext.default\"] = \"regular\"\n",
    "\n",
    "palette"
   ]
  },
  {
   "cell_type": "markdown",
   "metadata": {},
   "source": [
    "## Setup Paths"
   ]
  },
  {
   "cell_type": "code",
   "execution_count": null,
   "metadata": {
    "tags": []
   },
   "outputs": [],
   "source": [
    "deploy_type = \"local\""
   ]
  },
  {
   "cell_type": "code",
   "execution_count": null,
   "metadata": {
    "tags": []
   },
   "outputs": [],
   "source": [
    "config_dict = json.load(Path(\"../../config.json\").open(encoding=\"utf-8\"))\n",
    "base_path = Path(config_dict[deploy_type][\"base_path\"])\n",
    "\n",
    "saliva_path = base_path.joinpath(\"saliva_total\")"
   ]
  },
  {
   "cell_type": "code",
   "execution_count": null,
   "metadata": {
    "tags": []
   },
   "outputs": [],
   "source": [
    "output_path = saliva_path.joinpath(\"processed\")\n",
    "bp.utils.file_handling.mkdirs(output_path)"
   ]
  },
  {
   "cell_type": "code",
   "execution_count": null,
   "metadata": {
    "tags": []
   },
   "outputs": [],
   "source": [
    "sample_times = [-20, -1, 0, 10, 20, 45]"
   ]
  },
  {
   "cell_type": "markdown",
   "metadata": {},
   "source": [
    "## Cortisol"
   ]
  },
  {
   "cell_type": "markdown",
   "metadata": {
    "tags": []
   },
   "source": [
    "### Load and Rename"
   ]
  },
  {
   "cell_type": "code",
   "execution_count": null,
   "metadata": {
    "tags": []
   },
   "outputs": [],
   "source": [
    "cort_data = bp.io.saliva.load_saliva_plate(\n",
    "    saliva_path.joinpath(\"raw/cortisol_samples_raw.xlsx\"),\n",
    "    saliva_type=\"cortisol\",\n",
    "    id_col_names=[\"subject\", \"condition\", \"sample\"],\n",
    "    regex_str=\"VPN(\\d+)_(FTSST|TSST)_(\\d)\",\n",
    ")\n",
    "vpn_names = cort_data.index.get_level_values(\"subject\").unique()\n",
    "# rename subject IDs\n",
    "cort_data = cort_data.rename(index={old: \"VP_{:02d}\".format(int(old)) for old in vpn_names}, level=\"subject\")\n",
    "cort_data = cort_data.rename(index={\"FTSST\": \"ftsst\", \"TSST\": \"tsst\"}, level=\"condition\")\n",
    "\n",
    "cort_data"
   ]
  },
  {
   "cell_type": "markdown",
   "metadata": {},
   "source": [
    "### Compute Features"
   ]
  },
  {
   "cell_type": "code",
   "execution_count": null,
   "metadata": {
    "tags": []
   },
   "outputs": [],
   "source": [
    "max_inc = bp.saliva.max_increase(cort_data, \"cortisol\", remove_s0=True)\n",
    "max_inc_percent = bp.saliva.max_increase(cort_data, \"cortisol\", remove_s0=True, percent=True)\n",
    "auc = bp.saliva.auc(cort_data, \"cortisol\", remove_s0=True, sample_times=sample_times)\n",
    "slope = bp.saliva.slope(cort_data, sample_idx=[1, 4], saliva_type=\"cortisol\", sample_times=sample_times)\n",
    "\n",
    "\n",
    "cort_features = pd.concat([max_inc, max_inc_percent, auc, slope], axis=1)\n",
    "cort_features = bp.saliva.utils.saliva_feature_wide_to_long(cort_features, saliva_type=\"cortisol\")\n",
    "cort_features.head()"
   ]
  },
  {
   "cell_type": "markdown",
   "metadata": {},
   "source": [
    "### Save"
   ]
  },
  {
   "cell_type": "code",
   "execution_count": null,
   "metadata": {
    "tags": []
   },
   "outputs": [],
   "source": [
    "bp.io.saliva.save_saliva(output_path.joinpath(\"cortisol_samples.csv\"), cort_data, \"cortisol\")\n",
    "cort_features.to_csv(output_path.joinpath(\"cortisol_features.csv\"))"
   ]
  },
  {
   "cell_type": "code",
   "execution_count": null,
   "metadata": {},
   "outputs": [],
   "source": []
  }
 ],
 "metadata": {
  "kernelspec": {
   "display_name": "stresspose_analysis",
   "language": "python",
   "name": "stresspose_analysis"
  },
  "language_info": {
   "codemirror_mode": {
    "name": "ipython",
    "version": 3
   },
   "file_extension": ".py",
   "mimetype": "text/x-python",
   "name": "python",
   "nbconvert_exporter": "python",
   "pygments_lexer": "ipython3",
   "version": "3.9.13"
  }
 },
 "nbformat": 4,
 "nbformat_minor": 4
}
