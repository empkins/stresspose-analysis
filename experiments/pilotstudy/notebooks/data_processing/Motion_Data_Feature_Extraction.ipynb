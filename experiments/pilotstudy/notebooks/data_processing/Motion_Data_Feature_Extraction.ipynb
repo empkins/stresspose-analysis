{
 "cells": [
  {
   "cell_type": "markdown",
   "metadata": {},
   "source": [
    "# Feature Extraction"
   ]
  },
  {
   "cell_type": "markdown",
   "metadata": {},
   "source": [
    "## Imports and Global Helper Functions"
   ]
  },
  {
   "cell_type": "code",
   "execution_count": null,
   "metadata": {
    "tags": []
   },
   "outputs": [],
   "source": [
    "import json\n",
    "\n",
    "from pathlib import Path\n",
    "\n",
    "import pandas as pd\n",
    "\n",
    "import matplotlib.pyplot as plt\n",
    "import seaborn as sns\n",
    "from tqdm.auto import tqdm\n",
    "\n",
    "import biopsykit as bp\n",
    "from fau_colors import cmaps\n",
    "\n",
    "from empkins_macro.feature_extraction import extract_generic_features, extract_expert_features\n",
    "from stresspose_analysis.datasets.pilotstudy import PilotStudyDataset\n",
    "from stresspose_analysis.feature_extraction.utils import load_generic_feature_dict, load_expert_feature_dict, remove_na\n",
    "\n",
    "%load_ext autoreload\n",
    "%autoreload 2\n",
    "%matplotlib widget"
   ]
  },
  {
   "cell_type": "code",
   "execution_count": null,
   "metadata": {
    "tags": []
   },
   "outputs": [],
   "source": [
    "plt.close(\"all\")\n",
    "\n",
    "palette = sns.color_palette(cmaps.faculties)\n",
    "sns.set_theme(context=\"notebook\", style=\"ticks\", palette=palette)\n",
    "\n",
    "plt.rcParams[\"figure.figsize\"] = (10, 5)\n",
    "plt.rcParams[\"pdf.fonttype\"] = 42\n",
    "plt.rcParams[\"mathtext.default\"] = \"regular\"\n",
    "\n",
    "palette"
   ]
  },
  {
   "cell_type": "markdown",
   "metadata": {},
   "source": [
    "## Path Setup"
   ]
  },
  {
   "cell_type": "code",
   "execution_count": null,
   "metadata": {
    "tags": []
   },
   "outputs": [],
   "source": [
    "deploy_type = \"local\""
   ]
  },
  {
   "cell_type": "code",
   "execution_count": null,
   "metadata": {
    "tags": []
   },
   "outputs": [],
   "source": [
    "system = \"perception_neuron\""
   ]
  },
  {
   "cell_type": "code",
   "execution_count": null,
   "metadata": {
    "tags": []
   },
   "outputs": [],
   "source": [
    "root_path = Path(\"../../\").resolve()\n",
    "\n",
    "config_dict = json.load(root_path.joinpath(\"config.json\").open(encoding=\"utf-8\"))\n",
    "\n",
    "base_path = Path(config_dict[deploy_type][\"base_path\"])\n",
    "\n",
    "subject_dirs = bp.utils.file_handling.get_subject_dirs(base_path.joinpath(\"data_per_subject\"), \"VP_*\")\n",
    "print(f\"Found {len(subject_dirs)} subjects.\")"
   ]
  },
  {
   "cell_type": "code",
   "execution_count": null,
   "metadata": {
    "tags": []
   },
   "outputs": [],
   "source": [
    "feature_dict_path = root_path.joinpath(\"params/feature_dicts\")\n",
    "output_path = root_path.joinpath(\"feature_export/motion_features\")\n",
    "bp.utils.file_handling.mkdirs(output_path)"
   ]
  },
  {
   "cell_type": "code",
   "execution_count": null,
   "metadata": {
    "tags": []
   },
   "outputs": [],
   "source": [
    "dataset = PilotStudyDataset(base_path)"
   ]
  },
  {
   "cell_type": "markdown",
   "metadata": {},
   "source": [
    "## Load Feature Extraction Config Dicts"
   ]
  },
  {
   "cell_type": "markdown",
   "metadata": {},
   "source": [
    "### Load Generic Feature Dict"
   ]
  },
  {
   "cell_type": "code",
   "execution_count": null,
   "metadata": {
    "tags": []
   },
   "outputs": [],
   "source": [
    "generic_feature_dict = load_generic_feature_dict(feature_dict_path)"
   ]
  },
  {
   "cell_type": "markdown",
   "metadata": {},
   "source": [
    "### Load Expert Feature Dict"
   ]
  },
  {
   "cell_type": "code",
   "execution_count": null,
   "metadata": {
    "tags": []
   },
   "outputs": [],
   "source": [
    "expert_feature_dict = load_expert_feature_dict(feature_dict_path, dataset.sampling_rate)"
   ]
  },
  {
   "cell_type": "markdown",
   "metadata": {},
   "source": [
    "## Feature Extraction"
   ]
  },
  {
   "cell_type": "code",
   "execution_count": null,
   "metadata": {
    "tags": []
   },
   "outputs": [],
   "source": [
    "result_dict = {}"
   ]
  },
  {
   "cell_type": "code",
   "execution_count": null,
   "metadata": {
    "tags": []
   },
   "outputs": [],
   "source": [
    "index_levels = [\"subject\", \"condition\"]\n",
    "\n",
    "for subset in tqdm(list(dataset.groupby(index_levels))):\n",
    "    subject_id = subset.index[\"subject\"][0]\n",
    "    condition = subset.index[\"condition\"][0]\n",
    "\n",
    "    if (subject_id, condition) in result_dict:\n",
    "        continue\n",
    "\n",
    "    mocap_data = subset.mocap_data\n",
    "    generic_features = extract_generic_features(mocap_data, generic_feature_dict, system=system)\n",
    "    expert_features = extract_expert_features(mocap_data, expert_feature_dict, system=system)\n",
    "    result_dict[(subject_id, condition)] = pd.concat([generic_features, expert_features])\n",
    "\n",
    "motion_data_total = pd.concat(result_dict, names=index_levels)\n",
    "motion_data_total = remove_na(motion_data_total)\n",
    "motion_data_total"
   ]
  },
  {
   "cell_type": "markdown",
   "metadata": {},
   "source": [
    "## Feature Cleaning"
   ]
  },
  {
   "cell_type": "code",
   "execution_count": null,
   "metadata": {},
   "outputs": [],
   "source": [
    "motion_data_cleaned = motion_data_total.unstack([\"subject\", \"condition\"])\n",
    "\n",
    "# drop features that are NaN for any subject\n",
    "motion_data_cleaned = motion_data_cleaned.dropna(how=\"any\", axis=0)\n",
    "# drop features that are constant (e.g., 0) for all subjects\n",
    "std_mask = motion_data_cleaned.std(axis=1) != 0\n",
    "motion_data_cleaned = motion_data_cleaned.loc[std_mask]\n",
    "\n",
    "# bring dataframe back in original format\n",
    "motion_data_cleaned = motion_data_cleaned.stack([\"subject\", \"condition\"])\n",
    "motion_data_cleaned = motion_data_cleaned.reorder_levels(motion_data_total.index.names).sort_index()\n",
    "\n",
    "motion_data_cleaned.head()"
   ]
  },
  {
   "cell_type": "markdown",
   "metadata": {},
   "source": [
    "## Export"
   ]
  },
  {
   "cell_type": "code",
   "execution_count": null,
   "metadata": {},
   "outputs": [],
   "source": [
    "motion_data_total.to_csv(output_path.joinpath(\"motion_features.csv\"))\n",
    "motion_data_cleaned.to_csv(output_path.joinpath(f\"motion_features_cleaned.csv\"))\n",
    "motion_data_cleaned.to_csv(output_path.joinpath(f\"motion_features_for_classification.csv\"))"
   ]
  }
 ],
 "metadata": {
  "kernelspec": {
   "display_name": "stresspose_analysis",
   "language": "python",
   "name": "stresspose_analysis"
  },
  "language_info": {
   "codemirror_mode": {
    "name": "ipython",
    "version": 3
   },
   "file_extension": ".py",
   "mimetype": "text/x-python",
   "name": "python",
   "nbconvert_exporter": "python",
   "pygments_lexer": "ipython3",
   "version": "3.9.13"
  }
 },
 "nbformat": 4,
 "nbformat_minor": 4
}
