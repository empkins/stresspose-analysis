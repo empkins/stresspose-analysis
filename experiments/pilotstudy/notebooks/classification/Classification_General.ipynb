{
 "cells": [
  {
   "cell_type": "markdown",
   "metadata": {},
   "source": [
    "# Classification - TSST vs. fTSST"
   ]
  },
  {
   "cell_type": "markdown",
   "metadata": {},
   "source": [
    "## Imports and Helper Functions"
   ]
  },
  {
   "cell_type": "code",
   "execution_count": null,
   "metadata": {},
   "outputs": [],
   "source": [
    "import re\n",
    "import json\n",
    "import warnings\n",
    "\n",
    "from pathlib import Path\n",
    "\n",
    "import pandas as pd\n",
    "import numpy as np\n",
    "import pingouin as pg\n",
    "\n",
    "import matplotlib.pyplot as plt\n",
    "import seaborn as sns\n",
    "from sklearn.exceptions import ConvergenceWarning\n",
    "from sklearn.model_selection import GroupKFold\n",
    "from tqdm.auto import tqdm\n",
    "\n",
    "from fau_colors import cmaps\n",
    "\n",
    "import biopsykit as bp\n",
    "from biopsykit.stats import StatsPipeline\n",
    "from biopsykit.classification.model_selection import SklearnPipelinePermuter\n",
    "from biopsykit.classification.utils import prepare_df_sklearn\n",
    "\n",
    "from empkins_d03_macro_analysis.classification.utils import flatten_wide_format_column_names\n",
    "from empkins_d03_macro_analysis.classification.hyperparameter_search.macro_prestudy import (\n",
    "    get_model_dict,\n",
    "    get_hyper_para_dict,\n",
    "    get_hyper_search_dict,\n",
    ")\n",
    "\n",
    "%load_ext autoreload\n",
    "%autoreload 2\n",
    "%matplotlib widget"
   ]
  },
  {
   "cell_type": "code",
   "execution_count": null,
   "metadata": {},
   "outputs": [],
   "source": [
    "plt.close(\"all\")\n",
    "\n",
    "palette = sns.color_palette(cmaps.faculties)\n",
    "sns.set_theme(context=\"notebook\", style=\"ticks\", palette=palette)\n",
    "\n",
    "plt.rcParams[\"figure.figsize\"] = (8, 4)\n",
    "plt.rcParams[\"pdf.fonttype\"] = 42\n",
    "plt.rcParams[\"mathtext.default\"] = \"regular\"\n",
    "\n",
    "palette"
   ]
  },
  {
   "cell_type": "markdown",
   "metadata": {},
   "source": [
    "## Setup Paths"
   ]
  },
  {
   "cell_type": "code",
   "execution_count": null,
   "metadata": {},
   "outputs": [],
   "source": [
    "input_path = Path(\"../../../00_general\")\n",
    "output_path = Path(\"../../output/classification\")\n",
    "feature_path = input_path.joinpath(\"feature_export/motion_features\")\n",
    "output_path.mkdir(exist_ok=True)"
   ]
  },
  {
   "cell_type": "markdown",
   "metadata": {},
   "source": [
    "## Load Features and Prepare DataFrame for Sklearn"
   ]
  },
  {
   "cell_type": "code",
   "execution_count": null,
   "metadata": {},
   "outputs": [],
   "source": [
    "feature_path = feature_path.joinpath(\"motion_features_cleaned.csv\")\n",
    "data = bp.io.load_long_format_csv(feature_path)"
   ]
  },
  {
   "cell_type": "code",
   "execution_count": null,
   "metadata": {},
   "outputs": [],
   "source": [
    "levels_unstack = list(data.index.names)\n",
    "for level in [\"subject\", \"condition\"]:\n",
    "    levels_unstack.remove(level)\n",
    "data_wide = data[\"data\"].unstack(levels_unstack)\n",
    "\n",
    "data_wide = flatten_wide_format_column_names(data_wide)\n",
    "data_wide.head()"
   ]
  },
  {
   "cell_type": "code",
   "execution_count": null,
   "metadata": {},
   "outputs": [],
   "source": [
    "X, y, groups, group_keys = prepare_df_sklearn(data_wide, label_col=\"condition\", print_summary=True)\n",
    "# X = data_wide.copy()"
   ]
  },
  {
   "cell_type": "markdown",
   "metadata": {},
   "source": [
    "## Specify Estimator Combinations and Parameters for Hyperparameter Search"
   ]
  },
  {
   "cell_type": "code",
   "execution_count": null,
   "metadata": {},
   "outputs": [],
   "source": [
    "model_dict = get_model_dict()\n",
    "params_dict = get_hyper_para_dict(num_subjects=len(group_keys))\n",
    "hyper_search_dict = get_hyper_search_dict()"
   ]
  },
  {
   "cell_type": "code",
   "execution_count": null,
   "metadata": {},
   "outputs": [],
   "source": [
    "model_dict"
   ]
  },
  {
   "cell_type": "markdown",
   "metadata": {},
   "source": [
    "## Setup PipelinePermuter and Cross-Validations for Model Evaluation"
   ]
  },
  {
   "cell_type": "code",
   "execution_count": null,
   "metadata": {},
   "outputs": [],
   "source": [
    "pipeline_permuter = SklearnPipelinePermuter(model_dict, params_dict, hyper_search_dict, random_state=0)"
   ]
  },
  {
   "cell_type": "markdown",
   "metadata": {},
   "source": [
    "Fit all pipelines"
   ]
  },
  {
   "cell_type": "code",
   "execution_count": null,
   "metadata": {},
   "outputs": [],
   "source": [
    "outer_cv = GroupKFold(5)\n",
    "inner_cv = GroupKFold(5)\n",
    "\n",
    "with warnings.catch_warnings():\n",
    "    warnings.filterwarnings(\"ignore\", category=ConvergenceWarning)\n",
    "pipeline_permuter.fit(X, y, outer_cv=outer_cv, inner_cv=inner_cv, groups=groups)"
   ]
  },
  {
   "cell_type": "code",
   "execution_count": null,
   "metadata": {},
   "outputs": [],
   "source": [
    "data.to_csv(output_path.joinpath(f\"{feature_path.stem}.csv\"))\n",
    "pipeline_permuter.to_pickle(output_path.joinpath(f\"classification_general_pipeline_permuter.pkl\"))"
   ]
  }
 ],
 "metadata": {
  "kernelspec": {
   "display_name": "empkins_d03_macro_analysis",
   "language": "python",
   "name": "empkins_d03_macro_analysis"
  },
  "language_info": {
   "codemirror_mode": {
    "name": "ipython",
    "version": 3
   },
   "file_extension": ".py",
   "mimetype": "text/x-python",
   "name": "python",
   "nbconvert_exporter": "python",
   "pygments_lexer": "ipython3",
   "version": "3.9.13"
  }
 },
 "nbformat": 4,
 "nbformat_minor": 4
}
