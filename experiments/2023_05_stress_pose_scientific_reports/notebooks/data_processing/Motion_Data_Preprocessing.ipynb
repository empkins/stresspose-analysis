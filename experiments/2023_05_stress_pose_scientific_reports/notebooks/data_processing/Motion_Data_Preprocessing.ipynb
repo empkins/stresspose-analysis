{
 "cells": [
  {
   "cell_type": "markdown",
   "metadata": {},
   "source": [
    "# Motion Capture Data Preprocessing"
   ]
  },
  {
   "cell_type": "markdown",
   "metadata": {},
   "source": [
    "This notebook performs preprocessing on the motion capture data, i.e., removing postitional and rotational drifts."
   ]
  },
  {
   "cell_type": "markdown",
   "metadata": {},
   "source": [
    "## Imports and Global Helper Functions"
   ]
  },
  {
   "cell_type": "code",
   "execution_count": null,
   "metadata": {
    "tags": []
   },
   "outputs": [],
   "source": [
    "import json\n",
    "\n",
    "from pathlib import Path\n",
    "\n",
    "import pandas as pd\n",
    "\n",
    "import matplotlib.pyplot as plt\n",
    "import seaborn as sns\n",
    "\n",
    "import biopsykit as bp\n",
    "from fau_colors import cmaps\n",
    "\n",
    "from empkins_io.sensors.motion_capture.perception_neuron import PerceptionNeuronDataset\n",
    "from stresspose_analysis.data_processing.perception_neuron import process_bvh, process_calc, process_center_of_mass\n",
    "\n",
    "%load_ext autoreload\n",
    "%autoreload 2\n",
    "%matplotlib widget"
   ]
  },
  {
   "cell_type": "code",
   "execution_count": null,
   "metadata": {
    "tags": []
   },
   "outputs": [],
   "source": [
    "plt.close(\"all\")\n",
    "\n",
    "palette = cmaps.faculties\n",
    "sns.set_theme(context=\"notebook\", style=\"ticks\", palette=palette)\n",
    "\n",
    "plt.rcParams[\"figure.figsize\"] = (8, 4)\n",
    "plt.rcParams[\"pdf.fonttype\"] = 42\n",
    "plt.rcParams[\"mathtext.default\"] = \"regular\"\n",
    "\n",
    "sns.color_palette(palette)"
   ]
  },
  {
   "cell_type": "code",
   "execution_count": null,
   "metadata": {
    "tags": []
   },
   "outputs": [],
   "source": [
    "def plot_data(data: pd.DataFrame, channel: str = None, body_part: str = \"Hips\", ax: plt.Axes = None):\n",
    "    if ax is None:\n",
    "        fig, ax = plt.subplots()\n",
    "    else:\n",
    "        fig = ax.get_figure()\n",
    "    if channel is None:\n",
    "        data.loc[:, pd.IndexSlice[body_part, :, :]].plot(ax=ax)\n",
    "    else:\n",
    "        data.loc[:, pd.IndexSlice[body_part, channel, :]].plot(ax=ax)\n",
    "    fig.tight_layout()"
   ]
  },
  {
   "cell_type": "markdown",
   "metadata": {
    "tags": []
   },
   "source": [
    "## Variable and Path Setup"
   ]
  },
  {
   "cell_type": "code",
   "execution_count": null,
   "metadata": {
    "tags": []
   },
   "outputs": [],
   "source": [
    "deploy_type = \"local\""
   ]
  },
  {
   "cell_type": "code",
   "execution_count": null,
   "metadata": {
    "tags": []
   },
   "outputs": [],
   "source": [
    "config_dict = json.load(Path(\"../../config.json\").open(encoding=\"utf-8\"))\n",
    "\n",
    "base_path = Path(config_dict[deploy_type][\"base_path\"])\n",
    "data_path = base_path.joinpath(\"data_per_subject\")\n",
    "\n",
    "subject_dirs = bp.utils.file_handling.get_subject_dirs(data_path, \"VP_*\")\n",
    "print(f\"Found {len(subject_dirs)} subjects.\")"
   ]
  },
  {
   "cell_type": "code",
   "execution_count": null,
   "metadata": {
    "tags": []
   },
   "outputs": [],
   "source": [
    "subject_id = \"VP_02\"\n",
    "condition = \"tsst\""
   ]
  },
  {
   "cell_type": "code",
   "execution_count": null,
   "metadata": {
    "tags": []
   },
   "outputs": [],
   "source": [
    "mocap_path = data_path.joinpath(f\"{subject_id}/{condition}/mocap\")\n",
    "input_path = mocap_path.joinpath(\"export\")\n",
    "output_path = mocap_path.joinpath(\"filtered\")\n",
    "bp.utils.file_handling.mkdirs(output_path)"
   ]
  },
  {
   "cell_type": "code",
   "execution_count": null,
   "metadata": {
    "tags": []
   },
   "outputs": [],
   "source": [
    "bvh_file = f\"{subject_id}_{condition}.bvh.gz\"\n",
    "calc_file = f\"{subject_id}_{condition}.calc.gz\"\n",
    "global_pose_file = f\"{subject_id}_{condition}_global_pose.csv.gz\"\n",
    "\n",
    "bvh_path = input_path.joinpath(bvh_file)\n",
    "calc_path = input_path.joinpath(calc_file)\n",
    "global_pose_path = input_path.joinpath(global_pose_file)\n",
    "\n",
    "filter_params = json.load(mocap_path.joinpath(f\"{subject_id}_filter_params_{condition}.json\").open())\n",
    "filter_params"
   ]
  },
  {
   "cell_type": "code",
   "execution_count": null,
   "metadata": {},
   "outputs": [],
   "source": [
    "dataset = PerceptionNeuronDataset.from_folder(input_path, **filter_params[\"start_end\"])\n",
    "data_dict = dataset.data_dict"
   ]
  },
  {
   "cell_type": "code",
   "execution_count": null,
   "metadata": {},
   "outputs": [],
   "source": [
    "pos_filter_params = filter_params[\"pos_filter_params\"]\n",
    "rot_filter_params = filter_params[\"rot_filter_params\"]"
   ]
  },
  {
   "cell_type": "markdown",
   "metadata": {},
   "source": [
    "## Filter Motion Capture Data"
   ]
  },
  {
   "cell_type": "markdown",
   "metadata": {},
   "source": [
    "### BVH Data"
   ]
  },
  {
   "cell_type": "code",
   "execution_count": null,
   "metadata": {},
   "outputs": [],
   "source": [
    "bvh_proc = process_bvh(data_dict, pos_filter_params, rot_filter_params)"
   ]
  },
  {
   "cell_type": "code",
   "execution_count": null,
   "metadata": {},
   "outputs": [],
   "source": [
    "bvh_data = bvh_proc.data_dict[\"rot\"]\n",
    "bvh_data_global = bvh_proc.data_dict[\"global_pose\"]\n",
    "bvh_data.data.head()"
   ]
  },
  {
   "cell_type": "markdown",
   "metadata": {},
   "source": [
    "### Calc Data"
   ]
  },
  {
   "cell_type": "code",
   "execution_count": null,
   "metadata": {},
   "outputs": [],
   "source": [
    "calc_proc = process_calc(data_dict, pos_filter_params, rot_filter_params)"
   ]
  },
  {
   "cell_type": "code",
   "execution_count": null,
   "metadata": {},
   "outputs": [],
   "source": [
    "calc_data = calc_proc.data_dict[\"rot\"]\n",
    "calc_data.data.head()"
   ]
  },
  {
   "cell_type": "markdown",
   "metadata": {
    "tags": []
   },
   "source": [
    "### Center of Mass Data"
   ]
  },
  {
   "cell_type": "code",
   "execution_count": null,
   "metadata": {},
   "outputs": [],
   "source": [
    "center_mass_proc = process_center_of_mass(data_dict, pos_filter_params)"
   ]
  },
  {
   "cell_type": "code",
   "execution_count": null,
   "metadata": {},
   "outputs": [],
   "source": [
    "center_mass_data = center_mass_proc.data_dict[\"pos\"]\n",
    "center_mass_data.data.head()"
   ]
  },
  {
   "cell_type": "markdown",
   "metadata": {},
   "source": [
    "## Export"
   ]
  },
  {
   "cell_type": "code",
   "execution_count": null,
   "metadata": {},
   "outputs": [],
   "source": [
    "bvh_data.to_gzip_bvh(output_path.joinpath(f\"{subject_id}_{condition}.bvh.gz\"))\n",
    "bvh_data.global_pose_to_gzip_csv(output_path.joinpath(f\"{subject_id}_{condition}_global_pose.csv.gz\"))"
   ]
  },
  {
   "cell_type": "code",
   "execution_count": null,
   "metadata": {},
   "outputs": [],
   "source": [
    "calc_data.to_gzip_calc(output_path.joinpath(f\"{subject_id}_{condition}.calc.gz\"))"
   ]
  },
  {
   "cell_type": "code",
   "execution_count": null,
   "metadata": {},
   "outputs": [],
   "source": [
    "center_mass_data.to_csv(output_path.joinpath(f\"{subject_id}_{condition}_centerOfMass.csv\"))"
   ]
  },
  {
   "cell_type": "code",
   "execution_count": null,
   "metadata": {},
   "outputs": [],
   "source": []
  }
 ],
 "metadata": {
  "kernelspec": {
   "display_name": "stresspose_analysis",
   "language": "python",
   "name": "stresspose_analysis"
  },
  "language_info": {
   "codemirror_mode": {
    "name": "ipython",
    "version": 3
   },
   "file_extension": ".py",
   "mimetype": "text/x-python",
   "name": "python",
   "nbconvert_exporter": "python",
   "pygments_lexer": "ipython3",
   "version": "3.9.13"
  },
  "toc-showtags": false
 },
 "nbformat": 4,
 "nbformat_minor": 4
}
