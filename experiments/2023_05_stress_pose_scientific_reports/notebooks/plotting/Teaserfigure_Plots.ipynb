{
 "cells": [
  {
   "cell_type": "markdown",
   "metadata": {},
   "source": [
    "# Teaserfigure Plots"
   ]
  },
  {
   "cell_type": "markdown",
   "metadata": {
    "tags": []
   },
   "source": [
    "## Imports and Helper Functions"
   ]
  },
  {
   "cell_type": "code",
   "execution_count": null,
   "metadata": {
    "tags": []
   },
   "outputs": [],
   "source": [
    "import warnings\n",
    "import re\n",
    "import json\n",
    "\n",
    "from pathlib import Path\n",
    "\n",
    "import matplotlib.pyplot as plt\n",
    "import seaborn as sns\n",
    "\n",
    "from fau_colors import cmaps, register_fausans_font\n",
    "\n",
    "import biopsykit as bp\n",
    "from biopsykit.stats import StatsPipeline\n",
    "from biopsykit.classification.model_selection import SklearnPipelinePermuter\n",
    "from biopsykit.classification.analysis import (\n",
    "    predictions_as_df,\n",
    "    plot_conf_matrix,\n",
    ")\n",
    "\n",
    "from stresspose_analysis.classification.utils import feature_data_long_to_wide\n",
    "from stresspose_analysis.dataset import StressPoseDataset\n",
    "from stresspose_analysis.data_wrangling import add_concat_feature_name_to_index\n",
    "\n",
    "%load_ext autoreload\n",
    "%autoreload 2\n",
    "%matplotlib widget"
   ]
  },
  {
   "cell_type": "code",
   "execution_count": null,
   "metadata": {
    "tags": []
   },
   "outputs": [],
   "source": [
    "register_fausans_font()\n",
    "plt.close(\"all\")\n",
    "\n",
    "palette = sns.color_palette(cmaps.faculties)\n",
    "sns.set_theme(context=\"notebook\", style=\"ticks\", palette=palette)\n",
    "\n",
    "plt.rcParams[\"figure.figsize\"] = (8, 4)\n",
    "plt.rcParams[\"pdf.fonttype\"] = 42\n",
    "plt.rcParams[\"mathtext.default\"] = \"regular\"\n",
    "plt.rcParams[\"font.family\"] = \"sans-serif\"\n",
    "plt.rcParams[\"font.sans-serif\"] = \"FAUSans Office\"\n",
    "\n",
    "\n",
    "palette"
   ]
  },
  {
   "cell_type": "markdown",
   "metadata": {
    "tags": []
   },
   "source": [
    "## Setup Paths"
   ]
  },
  {
   "cell_type": "code",
   "execution_count": null,
   "metadata": {
    "tags": []
   },
   "outputs": [],
   "source": [
    "deploy_type = \"local\""
   ]
  },
  {
   "cell_type": "code",
   "execution_count": null,
   "metadata": {
    "tags": []
   },
   "outputs": [],
   "source": [
    "config_path = Path(\"../../config.json\")\n",
    "config_dict = json.load(config_path.open(encoding=\"utf-8\"))\n",
    "\n",
    "base_path = Path(config_dict[deploy_type][\"base_path\"])\n",
    "dataset = StressPoseDataset(base_path)"
   ]
  },
  {
   "cell_type": "code",
   "execution_count": null,
   "metadata": {
    "tags": []
   },
   "outputs": [],
   "source": [
    "label_mapping = {\"tsst\": \"Stress\", \"ftsst\": \"No Stress\"}"
   ]
  },
  {
   "cell_type": "markdown",
   "metadata": {},
   "source": [
    "## Load Data"
   ]
  },
  {
   "cell_type": "code",
   "execution_count": null,
   "metadata": {
    "tags": []
   },
   "outputs": [],
   "source": [
    "classification_type = \"general\""
   ]
  },
  {
   "cell_type": "code",
   "execution_count": null,
   "metadata": {
    "tags": []
   },
   "outputs": [],
   "source": [
    "root_path = Path(\"../../\")\n",
    "input_path = root_path.joinpath(\"output/classification\")\n",
    "output_path = root_path.joinpath(\"results\")\n",
    "img_path = output_path.joinpath(\"plots\")\n",
    "\n",
    "bp.utils.file_handling.mkdirs([img_path])"
   ]
  },
  {
   "cell_type": "code",
   "execution_count": null,
   "metadata": {
    "tags": []
   },
   "outputs": [],
   "source": [
    "pickle_files = sorted(input_path.glob(f\"*_{classification_type}_*.pkl\"))\n",
    "feature_files = sorted(input_path.glob(\"*.csv\"))"
   ]
  },
  {
   "cell_type": "code",
   "execution_count": null,
   "metadata": {
    "tags": []
   },
   "outputs": [],
   "source": [
    "index = 0\n",
    "\n",
    "pickle_file = pickle_files[index]\n",
    "feature_file = feature_files[index]\n",
    "\n",
    "print(\"Selected Files:\")\n",
    "print(f\"{pickle_file.name}\")\n",
    "print(f\"{feature_file.name}\")"
   ]
  },
  {
   "cell_type": "markdown",
   "metadata": {},
   "source": [
    "### Pickled `SklearnPipelinePermuter` object"
   ]
  },
  {
   "cell_type": "code",
   "execution_count": null,
   "metadata": {
    "tags": []
   },
   "outputs": [],
   "source": [
    "pipeline_permuter = SklearnPipelinePermuter.from_pickle(pickle_file)"
   ]
  },
  {
   "cell_type": "markdown",
   "metadata": {},
   "source": [
    "### Features"
   ]
  },
  {
   "cell_type": "code",
   "execution_count": null,
   "metadata": {
    "tags": []
   },
   "outputs": [],
   "source": [
    "data = bp.io.load_long_format_csv(feature_file)\n",
    "data = data.rename(index=label_mapping, level=\"condition\")\n",
    "data_wide = feature_data_long_to_wide(data)\n",
    "\n",
    "data = add_concat_feature_name_to_index(data)\n",
    "\n",
    "data.head()"
   ]
  },
  {
   "cell_type": "markdown",
   "metadata": {},
   "source": [
    "## Detailed Analysis"
   ]
  },
  {
   "cell_type": "code",
   "execution_count": null,
   "metadata": {
    "tags": []
   },
   "outputs": [],
   "source": [
    "selected_pipeline = (\"VarianceThreshold\", \"StandardScaler\", \"RFE\", \"RandomForestClassifier\")"
   ]
  },
  {
   "cell_type": "code",
   "execution_count": null,
   "metadata": {
    "tags": []
   },
   "outputs": [],
   "source": [
    "best_estimator_summary = pipeline_permuter.best_estimator_summary()\n",
    "best_estimator_summary.head()"
   ]
  },
  {
   "cell_type": "code",
   "execution_count": null,
   "metadata": {
    "tags": []
   },
   "outputs": [],
   "source": [
    "predictions = predictions_as_df(pipeline_permuter, data_wide, selected_pipeline, label_mapping)\n",
    "predictions.head()"
   ]
  },
  {
   "cell_type": "markdown",
   "metadata": {},
   "source": [
    "### Confusion Matrix"
   ]
  },
  {
   "cell_type": "code",
   "execution_count": null,
   "metadata": {
    "tags": []
   },
   "outputs": [],
   "source": [
    "with sns.plotting_context(\"talk\"):\n",
    "    fig, ax = plt.subplots(figsize=(4, 4))\n",
    "    plot_conf_matrix(predictions, labels=[\"Stress\", \"No Stress\"], label_name=\"condition\", despine=False, ax=ax)\n",
    "    fig.tight_layout(pad=0.1)\n",
    "\n",
    "    fig.savefig(img_path.joinpath(\"img_confusion_matrix_teaserfigure.pdf\"), transparent=True)"
   ]
  },
  {
   "cell_type": "markdown",
   "metadata": {},
   "source": [
    "## Motion Features"
   ]
  },
  {
   "cell_type": "code",
   "execution_count": null,
   "metadata": {
    "tags": []
   },
   "outputs": [],
   "source": [
    "steps = [(\"prep\", \"normality\"), (\"test\", \"pairwise_tests\")]\n",
    "params = {\n",
    "    \"dv\": \"data\",\n",
    "    \"within\": \"condition\",\n",
    "    \"subject\": \"subject\",\n",
    "    # \"groupby\": [\"feature_type\", \"body_part\", \"channel\", \"type\", \"metric\", \"axis\"],\n",
    "    \"groupby\": \"feature_concat\",\n",
    "    \"multicomp\": {\"method\": \"bonf\", \"levels\": True},\n",
    "    \"parametric\": False,\n",
    "}\n",
    "\n",
    "pipeline = StatsPipeline(\n",
    "    steps=steps,\n",
    "    params=params,\n",
    ")\n",
    "\n",
    "with warnings.catch_warnings():\n",
    "    warnings.filterwarnings(\"ignore\", category=UserWarning)\n",
    "    pipeline.apply(data);"
   ]
  },
  {
   "cell_type": "code",
   "execution_count": null,
   "metadata": {
    "tags": []
   },
   "outputs": [],
   "source": [
    "rename_map = [\n",
    "    \"expert-Head-ang_vel-static_periods-ratio_percent-norm\",\n",
    "    \"expert-Trunk-ang_vel-static_periods-ratio_percent-norm\",\n",
    "]"
   ]
  },
  {
   "cell_type": "code",
   "execution_count": null,
   "metadata": {
    "tags": []
   },
   "outputs": [],
   "source": [
    "features_flat = {\n",
    "    \"sp_ratio\": [\n",
    "        \"expert-Head-ang_vel-static_periods-ratio_percent-norm\",\n",
    "        \"expert-Trunk-ang_vel-static_periods-ratio_percent-norm\",\n",
    "    ]\n",
    "}"
   ]
  },
  {
   "cell_type": "code",
   "execution_count": null,
   "metadata": {
    "tags": []
   },
   "outputs": [],
   "source": [
    "box_pairs, pvalues = pipeline.sig_brackets(\n",
    "    \"test\", stats_effect_type=\"within\", plot_type=\"multi\", x=\"condition\", subplots=False, features=features_flat\n",
    ")\n",
    "box_pairs"
   ]
  },
  {
   "cell_type": "code",
   "execution_count": null,
   "metadata": {
    "tags": []
   },
   "outputs": [],
   "source": [
    "data_plot = data.reindex(rename_map, level=\"feature_concat\")\n",
    "data_plot = data_plot.droplevel(data_plot.index.names[2:-1])\n",
    "data_plot"
   ]
  },
  {
   "cell_type": "code",
   "execution_count": null,
   "metadata": {
    "tags": []
   },
   "outputs": [],
   "source": [
    "with sns.plotting_context(\"talk\"):\n",
    "    fig, ax = plt.subplots(figsize=(6, 4))\n",
    "    rect = (0, 0, 1, 0.9)\n",
    "    bp.plotting.feature_boxplot(\n",
    "        data=data_plot,\n",
    "        x=\"feature_concat\",\n",
    "        y=\"data\",\n",
    "        hue=\"condition\",\n",
    "        hue_order=[\"No Stress\", \"Stress\"],\n",
    "        legend_loc=\"upper center\",\n",
    "        legend_orientation=\"horizontal\",\n",
    "        stats_kwargs={\"box_pairs\": box_pairs, \"pvalues\": pvalues, \"verbose\": 0},\n",
    "        palette=cmaps.faculties,\n",
    "        rect=rect,\n",
    "        ax=ax,\n",
    "    )\n",
    "    ax.set_ylim([-0.1, 1.1])\n",
    "    ax.set_xticklabels([\"Head\", \"Trunk\"])\n",
    "    ax.set_xlabel(\"Body Part\")\n",
    "    ax.set_yticklabels([])\n",
    "    ax.set_ylabel(\"Amount of Freezing\")\n",
    "    fig.tight_layout(rect=rect)\n",
    "    fig.savefig(img_path.joinpath(f\"img_freezing_teaserfigure.pdf\"), transparent=True)"
   ]
  },
  {
   "cell_type": "code",
   "execution_count": null,
   "metadata": {},
   "outputs": [],
   "source": []
  }
 ],
 "metadata": {
  "jupytext": {
   "encoding": "# -*- coding: utf-8 -*-",
   "text_representation": {
    "extension": ".py",
    "format_name": "sphinx",
    "format_version": "1.1",
    "jupytext_version": "1.13.0"
   }
  },
  "kernelspec": {
   "display_name": "stresspose_analysis",
   "language": "python",
   "name": "stresspose_analysis"
  },
  "language_info": {
   "codemirror_mode": {
    "name": "ipython",
    "version": 3
   },
   "file_extension": ".py",
   "mimetype": "text/x-python",
   "name": "python",
   "nbconvert_exporter": "python",
   "pygments_lexer": "ipython3",
   "version": "3.9.13"
  },
  "toc-showtags": false,
  "vscode": {
   "interpreter": {
    "hash": "7014e6a8beff3a47c7c0424a6c63a486addc0ee3d12468bf1ae9a85a56cca70c"
   }
  }
 },
 "nbformat": 4,
 "nbformat_minor": 4
}
