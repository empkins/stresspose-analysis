{
 "cells": [
  {
   "cell_type": "markdown",
   "metadata": {},
   "source": [
    "# Mocap Data Filter Pipeline Plots"
   ]
  },
  {
   "cell_type": "markdown",
   "metadata": {},
   "source": [
    "## Imports and Global Helper Functions"
   ]
  },
  {
   "cell_type": "code",
   "execution_count": null,
   "metadata": {
    "tags": []
   },
   "outputs": [],
   "source": [
    "import json\n",
    "\n",
    "from pathlib import Path\n",
    "\n",
    "import pandas as pd\n",
    "import numpy as np\n",
    "import scipy.signal as ss\n",
    "\n",
    "import matplotlib.pyplot as plt\n",
    "import seaborn as sns\n",
    "\n",
    "from fau_colors import cmaps, register_fausans_font\n",
    "\n",
    "import biopsykit as bp\n",
    "\n",
    "from empkins_io.sensors.motion_capture.perception_neuron import PerceptionNeuronDataset\n",
    "from empkins_io.processing.utils.rotations import euler_to_quat, quat_to_euler, rotate_quat\n",
    "\n",
    "%load_ext autoreload\n",
    "%autoreload 2\n",
    "%matplotlib widget"
   ]
  },
  {
   "cell_type": "code",
   "execution_count": null,
   "metadata": {
    "tags": []
   },
   "outputs": [],
   "source": [
    "register_fausans_font()\n",
    "\n",
    "plt.close(\"all\")\n",
    "\n",
    "palette = sns.color_palette(cmaps.faculties)\n",
    "sns.set_theme(context=\"notebook\", style=\"ticks\", palette=palette)\n",
    "\n",
    "plt.rcParams[\"figure.figsize\"] = (8, 4)\n",
    "plt.rcParams[\"pdf.fonttype\"] = 42\n",
    "plt.rcParams[\"mathtext.default\"] = \"regular\"\n",
    "plt.rcParams[\"font.family\"] = \"sans-serif\"\n",
    "plt.rcParams[\"font.sans-serif\"] = \"FAUSans Office\"\n",
    "\n",
    "palette"
   ]
  },
  {
   "cell_type": "markdown",
   "metadata": {
    "tags": []
   },
   "source": [
    "## Variable and Path Setup"
   ]
  },
  {
   "cell_type": "code",
   "execution_count": null,
   "metadata": {
    "tags": []
   },
   "outputs": [],
   "source": [
    "deploy_type = \"local\""
   ]
  },
  {
   "cell_type": "code",
   "execution_count": null,
   "metadata": {
    "tags": []
   },
   "outputs": [],
   "source": [
    "config_dict = json.load(Path(\"../../config.json\").open(encoding=\"utf-8\"))\n",
    "base_path = Path(config_dict[deploy_type][\"base_path\"])\n",
    "data_path = base_path.joinpath(\"data_per_subject\")\n",
    "\n",
    "plot_path = Path(\"../../results/plots\")\n",
    "bp.utils.file_handling.mkdirs([plot_path])"
   ]
  },
  {
   "cell_type": "code",
   "execution_count": null,
   "metadata": {
    "tags": []
   },
   "outputs": [],
   "source": [
    "subject_id = \"VP_03\"\n",
    "condition = \"tsst\""
   ]
  },
  {
   "cell_type": "code",
   "execution_count": null,
   "metadata": {
    "tags": []
   },
   "outputs": [],
   "source": [
    "mocap_path = data_path.joinpath(f\"{subject_id}/{condition}/mocap\")\n",
    "input_path = mocap_path.joinpath(\"export\")\n",
    "output_path = mocap_path.joinpath(\"filtered\")\n",
    "bp.utils.file_handling.mkdirs(output_path)"
   ]
  },
  {
   "cell_type": "code",
   "execution_count": null,
   "metadata": {
    "tags": []
   },
   "outputs": [],
   "source": [
    "bvh_file = f\"{subject_id}_{condition}.bvh.gz\"\n",
    "calc_file = f\"{subject_id}_{condition}.calc.gz\"\n",
    "global_pose_file = f\"{subject_id}_{condition}_global_pose.csv.gz\"\n",
    "\n",
    "bvh_path = input_path.joinpath(bvh_file)\n",
    "calc_path = input_path.joinpath(calc_file)\n",
    "\n",
    "filter_params = json.load(mocap_path.joinpath(f\"{subject_id}_filter_params_{condition}.json\").open(encoding=\"utf-8\"))"
   ]
  },
  {
   "cell_type": "code",
   "execution_count": null,
   "metadata": {
    "tags": []
   },
   "outputs": [],
   "source": [
    "dataset = PerceptionNeuronDataset.from_folder(input_path, **filter_params[\"start_end\"])\n",
    "data_total = dataset.data_as_df(index=\"time\")\n",
    "data_total.index.name = \"Time [s]\""
   ]
  },
  {
   "cell_type": "code",
   "execution_count": null,
   "metadata": {
    "tags": []
   },
   "outputs": [],
   "source": [
    "pos_filter_params = filter_params[\"pos_filter_params\"]\n",
    "rot_filter_params = filter_params[\"rot_filter_params\"]"
   ]
  },
  {
   "cell_type": "markdown",
   "metadata": {},
   "source": [
    "## Drift Filtering Pipeline"
   ]
  },
  {
   "cell_type": "markdown",
   "metadata": {},
   "source": [
    "### Process Data"
   ]
  },
  {
   "cell_type": "markdown",
   "metadata": {},
   "source": [
    "#### Input Data"
   ]
  },
  {
   "cell_type": "code",
   "execution_count": null,
   "metadata": {
    "tags": []
   },
   "outputs": [],
   "source": [
    "data_in = data_total.loc[:, pd.IndexSlice[\"bvh\", \"Hips\", \"rot\", :]]"
   ]
  },
  {
   "cell_type": "markdown",
   "metadata": {},
   "source": [
    "#### Unwrapping"
   ]
  },
  {
   "cell_type": "code",
   "execution_count": null,
   "metadata": {
    "tags": []
   },
   "outputs": [],
   "source": [
    "data_unwrap = np.unwrap(np.deg2rad(data_in), axis=0)\n",
    "data_unwrap = pd.DataFrame(data_unwrap, index=data_in.index, columns=data_in.columns)\n",
    "data_unwrap_plot = np.rad2deg(data_unwrap)"
   ]
  },
  {
   "cell_type": "markdown",
   "metadata": {},
   "source": [
    "#### Conversion to Quaternions"
   ]
  },
  {
   "cell_type": "code",
   "execution_count": null,
   "metadata": {
    "tags": []
   },
   "outputs": [],
   "source": [
    "data_quat = euler_to_quat(data_unwrap)"
   ]
  },
  {
   "cell_type": "markdown",
   "metadata": {},
   "source": [
    "#### Approximation of Rotation Drift"
   ]
  },
  {
   "cell_type": "code",
   "execution_count": null,
   "metadata": {
    "tags": []
   },
   "outputs": [],
   "source": [
    "sos = ss.butter(\n",
    "    N=rot_filter_params[0].get(\"N\", 1),\n",
    "    Wn=rot_filter_params[0].get(\"Wn\", 0.01),\n",
    "    fs=dataset.sampling_rate_hz,\n",
    "    btype=\"high\",\n",
    "    output=\"sos\",\n",
    ")\n",
    "data_filt = ss.sosfiltfilt(sos=sos, x=data_quat, axis=0)\n",
    "data_filt = pd.DataFrame(data=data_filt, columns=data_quat.columns, index=data_quat.index)\n",
    "\n",
    "data_drift_approx = data_quat - data_filt"
   ]
  },
  {
   "cell_type": "markdown",
   "metadata": {},
   "source": [
    "#### Rotation with Approximated Drift"
   ]
  },
  {
   "cell_type": "code",
   "execution_count": null,
   "metadata": {
    "tags": []
   },
   "outputs": [],
   "source": [
    "data_rot = rotate_quat(data_quat, data_drift_approx)\n",
    "data_rot = pd.DataFrame(data=data_rot, columns=data_quat.columns, index=data_quat.index)"
   ]
  },
  {
   "cell_type": "markdown",
   "metadata": {},
   "source": [
    "#### Conversion to Euler Angles"
   ]
  },
  {
   "cell_type": "code",
   "execution_count": null,
   "metadata": {
    "tags": []
   },
   "outputs": [],
   "source": [
    "data_euler = np.rad2deg(quat_to_euler(data_rot))"
   ]
  },
  {
   "cell_type": "markdown",
   "metadata": {},
   "source": [
    "### Plot Pipeline"
   ]
  },
  {
   "cell_type": "code",
   "execution_count": null,
   "metadata": {
    "tags": []
   },
   "outputs": [],
   "source": [
    "data_in.columns = list(\"yxz\")\n",
    "data_unwrap_plot.columns = list(\"yxz\")\n",
    "data_quat.columns = list(\"wxyz\")\n",
    "data_drift_approx.columns = list(\"wxyz\")\n",
    "data_rot.columns = list(\"wxyz\")\n",
    "data_euler.columns = list(\"yxz\")"
   ]
  },
  {
   "cell_type": "code",
   "execution_count": null,
   "metadata": {
    "tags": []
   },
   "outputs": [],
   "source": [
    "fig, axs = plt.subplots(ncols=6, nrows=1, figsize=(15, 2.5))\n",
    "data_iter = [data_in, data_unwrap_plot, data_quat, data_drift_approx, data_rot, data_euler]\n",
    "\n",
    "legend_kwargs = dict(loc=\"upper right\", fontsize=\"smaller\", handlelength=0.5)\n",
    "\n",
    "ylabels = [\n",
    "    \"Rotation [°]\",\n",
    "    \"Rotation [°]\",\n",
    "    \"Quaternion [AU]\",\n",
    "    \"Quaternion [AU]\",\n",
    "    \"Quaternion [AU]\",\n",
    "    \"Rotation [°]\",\n",
    "    \"Rotation [°]\",\n",
    "]\n",
    "\n",
    "titles = [\n",
    "    \"Original\\n Euler Angles\",\n",
    "    \"Unwrapped\\n Euler Angles\",\n",
    "    \"Unwrapped\\n Quaternions\",\n",
    "    \"Approximated\\n Rotation Drift\",\n",
    "    \"Drift-compensated\\n Quaternions\",\n",
    "    \"Drift-compensated\\n Euler Angles\",\n",
    "]\n",
    "\n",
    "for data, ylabel, title, ax in zip(data_iter, ylabels, titles, axs):\n",
    "    data.plot(ax=ax)\n",
    "    ax.set_ylabel(ylabel)\n",
    "    ax.set_title(title)\n",
    "    handles, labels = ax.get_legend_handles_labels()\n",
    "    ax.legend(labels, **legend_kwargs)\n",
    "\n",
    "\n",
    "fig.tight_layout(pad=0.5, w_pad=1.0, rect=(0.01, 0, 0.99, 1))\n",
    "fig.savefig(plot_path.joinpath(\"img_rotation_filter_pipeline.pdf\"))"
   ]
  },
  {
   "cell_type": "code",
   "execution_count": null,
   "metadata": {},
   "outputs": [],
   "source": []
  }
 ],
 "metadata": {
  "kernelspec": {
   "display_name": "stresspose_analysis",
   "language": "python",
   "name": "stresspose_analysis"
  },
  "language_info": {
   "codemirror_mode": {
    "name": "ipython",
    "version": 3
   },
   "file_extension": ".py",
   "mimetype": "text/x-python",
   "name": "python",
   "nbconvert_exporter": "python",
   "pygments_lexer": "ipython3",
   "version": "3.9.13"
  }
 },
 "nbformat": 4,
 "nbformat_minor": 4
}
